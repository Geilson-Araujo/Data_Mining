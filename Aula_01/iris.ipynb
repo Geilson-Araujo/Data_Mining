{
 "cells": [
  {
   "cell_type": "markdown",
   "metadata": {
    "colab_type": "text",
    "id": "MHf_vZc-xLGI"
   },
   "source": [
    "## <font color=lightgreen> Introdução a Data Mining - Análise Exploratória de Dados"
   ]
  },
  {
   "cell_type": "code",
   "execution_count": 1,
   "metadata": {
    "colab": {},
    "colab_type": "code",
    "id": "ztBlafHsx0Ky"
   },
   "outputs": [],
   "source": [
    "# Bibliotecas para manipulação de dados\n",
    "import pandas as pd\n",
    "import numpy as np\n",
    "\n",
    "# Bibliotecas para geração de gráficos\n",
    "import matplotlib.pyplot as plt\n",
    "import seaborn as sns\n",
    "from seaborn import load_dataset # base de dados iris\n",
    "import graphviz\n",
    "\n",
    "# Bibliotecas de machine learning\n",
    "from sklearn.model_selection import train_test_split\n",
    "from sklearn.tree import DecisionTreeClassifier, export_graphviz\n",
    "from sklearn.metrics import (accuracy_score, confusion_matrix,\n",
    "                             classification_report)\n",
    "\n",
    "# np.random.seed(0) \n",
    "SEED = 0 # valor da semente para pseudo aleatoriedade\n",
    "         # e reprodução dos mesmos resultados"
   ]
  },
  {
   "cell_type": "code",
   "execution_count": 2,
   "metadata": {
    "colab": {},
    "colab_type": "code",
    "id": "C9z-mB9PpQGQ"
   },
   "outputs": [],
   "source": [
    "# Carrega a base de dados\n",
    "iris = load_dataset('iris')"
   ]
  },
  {
   "cell_type": "code",
   "execution_count": 3,
   "metadata": {
    "colab": {
     "base_uri": "https://localhost:8080/",
     "height": 204
    },
    "colab_type": "code",
    "id": "fCQgygST6ztf",
    "outputId": "6d1db3ab-6329-48b8-9a41-a281a7636f29"
   },
   "outputs": [
    {
     "data": {
      "text/html": [
       "<div>\n",
       "<style scoped>\n",
       "    .dataframe tbody tr th:only-of-type {\n",
       "        vertical-align: middle;\n",
       "    }\n",
       "\n",
       "    .dataframe tbody tr th {\n",
       "        vertical-align: top;\n",
       "    }\n",
       "\n",
       "    .dataframe thead th {\n",
       "        text-align: right;\n",
       "    }\n",
       "</style>\n",
       "<table border=\"1\" class=\"dataframe\">\n",
       "  <thead>\n",
       "    <tr style=\"text-align: right;\">\n",
       "      <th></th>\n",
       "      <th>sepal_length</th>\n",
       "      <th>sepal_width</th>\n",
       "      <th>petal_length</th>\n",
       "      <th>petal_width</th>\n",
       "      <th>species</th>\n",
       "    </tr>\n",
       "  </thead>\n",
       "  <tbody>\n",
       "    <tr>\n",
       "      <td>0</td>\n",
       "      <td>5.1</td>\n",
       "      <td>3.5</td>\n",
       "      <td>1.4</td>\n",
       "      <td>0.2</td>\n",
       "      <td>setosa</td>\n",
       "    </tr>\n",
       "    <tr>\n",
       "      <td>1</td>\n",
       "      <td>4.9</td>\n",
       "      <td>3.0</td>\n",
       "      <td>1.4</td>\n",
       "      <td>0.2</td>\n",
       "      <td>setosa</td>\n",
       "    </tr>\n",
       "    <tr>\n",
       "      <td>2</td>\n",
       "      <td>4.7</td>\n",
       "      <td>3.2</td>\n",
       "      <td>1.3</td>\n",
       "      <td>0.2</td>\n",
       "      <td>setosa</td>\n",
       "    </tr>\n",
       "    <tr>\n",
       "      <td>3</td>\n",
       "      <td>4.6</td>\n",
       "      <td>3.1</td>\n",
       "      <td>1.5</td>\n",
       "      <td>0.2</td>\n",
       "      <td>setosa</td>\n",
       "    </tr>\n",
       "    <tr>\n",
       "      <td>4</td>\n",
       "      <td>5.0</td>\n",
       "      <td>3.6</td>\n",
       "      <td>1.4</td>\n",
       "      <td>0.2</td>\n",
       "      <td>setosa</td>\n",
       "    </tr>\n",
       "  </tbody>\n",
       "</table>\n",
       "</div>"
      ],
      "text/plain": [
       "   sepal_length  sepal_width  petal_length  petal_width species\n",
       "0           5.1          3.5           1.4          0.2  setosa\n",
       "1           4.9          3.0           1.4          0.2  setosa\n",
       "2           4.7          3.2           1.3          0.2  setosa\n",
       "3           4.6          3.1           1.5          0.2  setosa\n",
       "4           5.0          3.6           1.4          0.2  setosa"
      ]
     },
     "execution_count": 3,
     "metadata": {},
     "output_type": "execute_result"
    }
   ],
   "source": [
    "iris.head() # exibe as 5 (cinco) primeiras linhas do dataset"
   ]
  },
  {
   "cell_type": "markdown",
   "metadata": {
    "colab_type": "text",
    "id": "rAwVL2bwrslQ"
   },
   "source": [
    "### <font color=lightgreen> Gráfico de Dispersão (Scatter Plot)"
   ]
  },
  {
   "cell_type": "code",
   "execution_count": 4,
   "metadata": {
    "colab": {
     "base_uri": "https://localhost:8080/",
     "height": 464
    },
    "colab_type": "code",
    "id": "CoNAFqW90S4n",
    "outputId": "a8c2b8f6-3510-4c7b-a942-3bae194351f6"
   },
   "outputs": [
    {
     "data": {
      "image/png": "[encoded data removed]",
      "text/plain": [
       "<Figure size 720x504 with 1 Axes>"
      ]
     },
     "metadata": {},
     "output_type": "display_data"
    }
   ],
   "source": [
    "sns.set()\n",
    "\n",
    "fig, ax = plt.subplots(figsize=(10, 7))\n",
    "\n",
    "sns.scatterplot(x='sepal_length',  y='sepal_width', data=iris, hue='species')\n",
    "\n",
    "ax.set(xlabel='Comprimento da sépala (cm)',\n",
    "       ylabel='Largura da sépala (cm)',\n",
    "       title='Gráfico de Dispersão - Base de Dados Iris')\n",
    "\n",
    "plt.show()"
   ]
  },
  {
   "cell_type": "markdown",
   "metadata": {
    "colab_type": "text",
    "id": "GiqPeJsOza0B"
   },
   "source": [
    "### <font color=lightgreen> Gráfico de Barras"
   ]
  },
  {
   "cell_type": "code",
   "execution_count": 5,
   "metadata": {
    "colab": {
     "base_uri": "https://localhost:8080/",
     "height": 447
    },
    "colab_type": "code",
    "id": "qMNmEPzr4HmI",
    "outputId": "7ecc42e4-fea0-48b6-f9bc-42de6de9ce82"
   },
   "outputs": [
    {
     "data": {
      "image/png": "[encoded data removed]",
      "text/plain": [
       "<Figure size 720x504 with 1 Axes>"
      ]
     },
     "metadata": {},
     "output_type": "display_data"
    }
   ],
   "source": [
    "fig, ax = plt.subplots(figsize=(10, 7))\n",
    "\n",
    "sns.countplot(x='species', data=iris)\n",
    "\n",
    "ax.set(xlabel=None, \n",
    "       ylabel='Quantidade de amostras',\n",
    "       title='Gráfico de Barras - Base de Dados Iris')\n",
    "\n",
    "plt.show()"
   ]
  },
  {
   "cell_type": "markdown",
   "metadata": {
    "colab_type": "text",
    "id": "uM1LohZF0BHw"
   },
   "source": [
    "### <font color=lightgreen> Boxplot"
   ]
  },
  {
   "cell_type": "code",
   "execution_count": 6,
   "metadata": {
    "colab": {
     "base_uri": "https://localhost:8080/",
     "height": 431
    },
    "colab_type": "code",
    "id": "yLg-3wcD1Utb",
    "outputId": "54bb0d4e-4ecd-4f24-d73e-334b9df7c111"
   },
   "outputs": [
    {
     "data": {
      "image/png": "[encoded data removed]",
      "text/plain": [
       "<Figure size 864x504 with 2 Axes>"
      ]
     },
     "metadata": {},
     "output_type": "display_data"
    }
   ],
   "source": [
    "fig, ax = plt.subplots(nrows=1, ncols=2, sharey=True, figsize=(12, 7))\n",
    "\n",
    "sns.boxplot(x='species',  y='sepal_width', data=iris, ax=ax[0])\n",
    "\n",
    "sns.boxplot(x='species',  y='sepal_length', data=iris, ax=ax[1])\n",
    "\n",
    "ax[0].set(xlabel=None,\n",
    "          ylabel='Largura da sépala (cm)')\n",
    "\n",
    "ax[1].set(xlabel=None,\n",
    "          ylabel='Comprimento da sépala (cm)')\n",
    "\n",
    "plt.show()"
   ]
  },
  {
   "cell_type": "markdown",
   "metadata": {
    "colab_type": "text",
    "id": "sXy_UQ_J87Da"
   },
   "source": [
    "### <font color=lightgreen> Separando a base de dados entre treino e teste"
   ]
  },
  {
   "cell_type": "code",
   "execution_count": 7,
   "metadata": {
    "colab": {},
    "colab_type": "code",
    "id": "QalubiBR7ZrT"
   },
   "outputs": [],
   "source": [
    "X = iris.drop('species', axis=1) # seleciona os atributos\n",
    "                                 # da base de dados\n",
    "\n",
    "y = iris.species # seleciona a classe da base de dados\n",
    "\n",
    "X_train, X_test, y_train, y_test = train_test_split(\n",
    "    X, y, test_size=0.3,\n",
    "    random_state=SEED,\n",
    "    stratify=y # utilizado para balancear as bases de treino\n",
    "               # e teste de acordo com a classe\n",
    "    )"
   ]
  },
  {
   "cell_type": "markdown",
   "metadata": {
    "colab_type": "text",
    "id": "WntE2kEW7ES0"
   },
   "source": [
    "### <font color=lightgreen> Verificação do Balanceamento de Classes"
   ]
  },
  {
   "cell_type": "code",
   "execution_count": 8,
   "metadata": {
    "colab": {
     "base_uri": "https://localhost:8080/",
     "height": 85
    },
    "colab_type": "code",
    "id": "Ekzl3HyR5aMQ",
    "outputId": "6fc6b305-0908-4e79-f759-a523f4281501"
   },
   "outputs": [
    {
     "data": {
      "text/plain": [
       "virginica     50\n",
       "versicolor    50\n",
       "setosa        50\n",
       "Name: species, dtype: int64"
      ]
     },
     "execution_count": 8,
     "metadata": {},
     "output_type": "execute_result"
    }
   ],
   "source": [
    "iris['species'].value_counts(dropna=False)"
   ]
  },
  {
   "cell_type": "code",
   "execution_count": 9,
   "metadata": {
    "colab": {
     "base_uri": "https://localhost:8080/",
     "height": 85
    },
    "colab_type": "code",
    "id": "pIfdWGlq-7eE",
    "outputId": "227902f0-815a-4435-8cbe-307632c0a528"
   },
   "outputs": [
    {
     "data": {
      "text/plain": [
       "virginica     0.333333\n",
       "versicolor    0.333333\n",
       "setosa        0.333333\n",
       "Name: species, dtype: float64"
      ]
     },
     "execution_count": 9,
     "metadata": {},
     "output_type": "execute_result"
    }
   ],
   "source": [
    "# Percentual\n",
    "iris['species'].value_counts(normalize=True)"
   ]
  },
  {
   "cell_type": "code",
   "execution_count": 10,
   "metadata": {
    "colab": {
     "base_uri": "https://localhost:8080/",
     "height": 85
    },
    "colab_type": "code",
    "id": "b1kvQKRr5gHi",
    "outputId": "7bd4be03-5d70-4ade-d5cb-7eb4d8f53917"
   },
   "outputs": [
    {
     "data": {
      "text/plain": [
       "virginica     35\n",
       "versicolor    35\n",
       "setosa        35\n",
       "Name: species, dtype: int64"
      ]
     },
     "execution_count": 10,
     "metadata": {},
     "output_type": "execute_result"
    }
   ],
   "source": [
    "y_train.value_counts() # valores de classe utilizados para treino"
   ]
  },
  {
   "cell_type": "code",
   "execution_count": 11,
   "metadata": {
    "colab": {
     "base_uri": "https://localhost:8080/",
     "height": 85
    },
    "colab_type": "code",
    "id": "LN5lVtlu6k-I",
    "outputId": "d8685e60-d2a9-4f30-8479-6da9c57f9e1f"
   },
   "outputs": [
    {
     "data": {
      "text/plain": [
       "versicolor    15\n",
       "virginica     15\n",
       "setosa        15\n",
       "Name: species, dtype: int64"
      ]
     },
     "execution_count": 11,
     "metadata": {},
     "output_type": "execute_result"
    }
   ],
   "source": [
    "y_test.value_counts() # valores de classe utilizados para teste"
   ]
  },
  {
   "cell_type": "markdown",
   "metadata": {
    "colab_type": "text",
    "id": "ebE3B5u06nGQ"
   },
   "source": [
    "### <font color=lightgreen> Árvore de Decisão"
   ]
  },
  {
   "cell_type": "code",
   "execution_count": 12,
   "metadata": {
    "colab": {
     "base_uri": "https://localhost:8080/",
     "height": 34
    },
    "colab_type": "code",
    "id": "xLEiGsOfA_wf",
    "outputId": "325cc64d-fd03-4e65-9695-bf3eda881d84"
   },
   "outputs": [
    {
     "name": "stdout",
     "output_type": "stream",
     "text": [
      "Acurária obtida por meio do modelo árvore de Decisão: 97.778%\n"
     ]
    }
   ],
   "source": [
    "model = DecisionTreeClassifier(random_state=SEED) # instancia o modelo de \n",
    "                                                  # classificação\n",
    "model.fit(X_train, y_train) # treina o modelo\n",
    "y_pred = model.predict(X_test) # utiliza o modelo treinado para realizar\n",
    "                               # previsões sobre uma base desconhecida \n",
    "\n",
    "accuracy = accuracy_score(y_test, y_pred) # verifica a acurácia do modelo\n",
    "\n",
    "print(f'Acurária obtida por meio do modelo árvore de Decisão: {accuracy:.3%}')"
   ]
  },
  {
   "cell_type": "code",
   "execution_count": 13,
   "metadata": {
    "colab": {
     "base_uri": "https://localhost:8080/",
     "height": 204
    },
    "colab_type": "code",
    "id": "LTUSF1JHCekj",
    "outputId": "10dc8828-39d4-4b98-b735-74e3525c12f1"
   },
   "outputs": [
    {
     "data": {
      "text/html": [
       "<div>\n",
       "<style scoped>\n",
       "    .dataframe tbody tr th:only-of-type {\n",
       "        vertical-align: middle;\n",
       "    }\n",
       "\n",
       "    .dataframe tbody tr th {\n",
       "        vertical-align: top;\n",
       "    }\n",
       "\n",
       "    .dataframe thead th {\n",
       "        text-align: right;\n",
       "    }\n",
       "</style>\n",
       "<table border=\"1\" class=\"dataframe\">\n",
       "  <thead>\n",
       "    <tr style=\"text-align: right;\">\n",
       "      <th>Real</th>\n",
       "      <th>setosa</th>\n",
       "      <th>versicolor</th>\n",
       "      <th>virginica</th>\n",
       "      <th>All</th>\n",
       "    </tr>\n",
       "    <tr>\n",
       "      <th>Previsto</th>\n",
       "      <th></th>\n",
       "      <th></th>\n",
       "      <th></th>\n",
       "      <th></th>\n",
       "    </tr>\n",
       "  </thead>\n",
       "  <tbody>\n",
       "    <tr>\n",
       "      <td>setosa</td>\n",
       "      <td>15</td>\n",
       "      <td>0</td>\n",
       "      <td>0</td>\n",
       "      <td>15</td>\n",
       "    </tr>\n",
       "    <tr>\n",
       "      <td>versicolor</td>\n",
       "      <td>0</td>\n",
       "      <td>15</td>\n",
       "      <td>1</td>\n",
       "      <td>16</td>\n",
       "    </tr>\n",
       "    <tr>\n",
       "      <td>virginica</td>\n",
       "      <td>0</td>\n",
       "      <td>0</td>\n",
       "      <td>14</td>\n",
       "      <td>14</td>\n",
       "    </tr>\n",
       "    <tr>\n",
       "      <td>All</td>\n",
       "      <td>15</td>\n",
       "      <td>15</td>\n",
       "      <td>15</td>\n",
       "      <td>45</td>\n",
       "    </tr>\n",
       "  </tbody>\n",
       "</table>\n",
       "</div>"
      ],
      "text/plain": [
       "Real        setosa  versicolor  virginica  All\n",
       "Previsto                                      \n",
       "setosa          15           0          0   15\n",
       "versicolor       0          15          1   16\n",
       "virginica        0           0         14   14\n",
       "All             15          15         15   45"
      ]
     },
     "execution_count": 13,
     "metadata": {},
     "output_type": "execute_result"
    }
   ],
   "source": [
    "# Matriz de confusão\n",
    "pd.crosstab(y_pred,\n",
    "            y_test,\n",
    "            rownames=['Previsto'],\n",
    "            colnames=['Real'],\n",
    "            margins=True)"
   ]
  },
  {
   "cell_type": "code",
   "execution_count": 14,
   "metadata": {
    "colab": {
     "base_uri": "https://localhost:8080/",
     "height": 187
    },
    "colab_type": "code",
    "id": "K6fCJjBxCtfe",
    "outputId": "ec14ed25-d1f3-429f-db2f-0898b0e063bb"
   },
   "outputs": [
    {
     "name": "stdout",
     "output_type": "stream",
     "text": [
      "              precision    recall  f1-score   support\n",
      "\n",
      "      setosa       1.00      1.00      1.00        15\n",
      "  versicolor       0.94      1.00      0.97        15\n",
      "   virginica       1.00      0.93      0.97        15\n",
      "\n",
      "    accuracy                           0.98        45\n",
      "   macro avg       0.98      0.98      0.98        45\n",
      "weighted avg       0.98      0.98      0.98        45\n",
      "\n"
     ]
    }
   ],
   "source": [
    "# Relatório de classificação\n",
    "print(classification_report(y_test, y_pred))                          "
   ]
  },
  {
   "cell_type": "markdown",
   "metadata": {
    "colab_type": "text",
    "id": "qo_zETs1lRZm"
   },
   "source": [
    "### <font color=lightgreen> Vizualizando a Árvore de Decisão\n",
    "Maiores informações em: [scikit_learn: decision tree](https://scikit-learn.org/stable/modules/tree.html)"
   ]
  },
  {
   "cell_type": "code",
   "execution_count": 15,
   "metadata": {
    "colab": {
     "base_uri": "https://localhost:8080/",
     "height": 757
    },
    "colab_type": "code",
    "id": "ORPNbOXefK7K",
    "outputId": "fa74ca21-3c21-4592-80af-0c2ac96565a3"
   },
   "outputs": [
    {
     "data": {
      "image/svg+xml": [
       "<?xml version=\"1.0\" encoding=\"UTF-8\" standalone=\"no\"?>\n",
       "<!DOCTYPE svg PUBLIC \"-//W3C//DTD SVG 1.1//EN\"\n",
       " \"http://www.w3.org/Graphics/SVG/1.1/DTD/svg11.dtd\">\n",
       "<!-- Generated by graphviz version 2.40.1 (20161225.0304)\n",
       " -->\n",
       "<!-- Title: Tree Pages: 1 -->\n",
       "<svg width=\"785pt\" height=\"552pt\"\n",
       " viewBox=\"0.00 0.00 785.00 552.00\" xmlns=\"http://www.w3.org/2000/svg\" xmlns:xlink=\"http://www.w3.org/1999/xlink\">\n",
       "<g id=\"graph0\" class=\"graph\" transform=\"scale(1 1) rotate(0) translate(4 548)\">\n",
       "<title>Tree</title>\n",
       "<polygon fill=\"#ffffff\" stroke=\"transparent\" points=\"-4,4 -4,-548 781,-548 781,4 -4,4\"/>\n",
       "<!-- 0 -->\n",
       "<g id=\"node1\" class=\"node\">\n",
       "<title>0</title>\n",
       "<path fill=\"#ffffff\" stroke=\"#000000\" d=\"M460.5,-544C460.5,-544 352.5,-544 352.5,-544 346.5,-544 340.5,-538 340.5,-532 340.5,-532 340.5,-473 340.5,-473 340.5,-467 346.5,-461 352.5,-461 352.5,-461 460.5,-461 460.5,-461 466.5,-461 472.5,-467 472.5,-473 472.5,-473 472.5,-532 472.5,-532 472.5,-538 466.5,-544 460.5,-544\"/>\n",
       "<text text-anchor=\"start\" x=\"355\" y=\"-528.8\" font-family=\"Helvetica,sans-Serif\" font-size=\"14.00\" fill=\"#000000\">petal_width ≤ 0.8</text>\n",
       "<text text-anchor=\"start\" x=\"371\" y=\"-513.8\" font-family=\"Helvetica,sans-Serif\" font-size=\"14.00\" fill=\"#000000\">gini = 0.667</text>\n",
       "<text text-anchor=\"start\" x=\"361.5\" y=\"-498.8\" font-family=\"Helvetica,sans-Serif\" font-size=\"14.00\" fill=\"#000000\">samples = 105</text>\n",
       "<text text-anchor=\"start\" x=\"348.5\" y=\"-483.8\" font-family=\"Helvetica,sans-Serif\" font-size=\"14.00\" fill=\"#000000\">value = [35, 35, 35]</text>\n",
       "<text text-anchor=\"start\" x=\"379.5\" y=\"-468.8\" font-family=\"Helvetica,sans-Serif\" font-size=\"14.00\" fill=\"#000000\">class = s</text>\n",
       "</g>\n",
       "<!-- 1 -->\n",
       "<g id=\"node2\" class=\"node\">\n",
       "<title>1</title>\n",
       "<path fill=\"#e58139\" stroke=\"#000000\" d=\"M383,-417.5C383,-417.5 290,-417.5 290,-417.5 284,-417.5 278,-411.5 278,-405.5 278,-405.5 278,-361.5 278,-361.5 278,-355.5 284,-349.5 290,-349.5 290,-349.5 383,-349.5 383,-349.5 389,-349.5 395,-355.5 395,-361.5 395,-361.5 395,-405.5 395,-405.5 395,-411.5 389,-417.5 383,-417.5\"/>\n",
       "<text text-anchor=\"start\" x=\"308.5\" y=\"-402.3\" font-family=\"Helvetica,sans-Serif\" font-size=\"14.00\" fill=\"#000000\">gini = 0.0</text>\n",
       "<text text-anchor=\"start\" x=\"295.5\" y=\"-387.3\" font-family=\"Helvetica,sans-Serif\" font-size=\"14.00\" fill=\"#000000\">samples = 35</text>\n",
       "<text text-anchor=\"start\" x=\"286\" y=\"-372.3\" font-family=\"Helvetica,sans-Serif\" font-size=\"14.00\" fill=\"#000000\">value = [35, 0, 0]</text>\n",
       "<text text-anchor=\"start\" x=\"309.5\" y=\"-357.3\" font-family=\"Helvetica,sans-Serif\" font-size=\"14.00\" fill=\"#000000\">class = s</text>\n",
       "</g>\n",
       "<!-- 0&#45;&gt;1 -->\n",
       "<g id=\"edge1\" class=\"edge\">\n",
       "<title>0&#45;&gt;1</title>\n",
       "<path fill=\"none\" stroke=\"#000000\" d=\"M382.0174,-460.8796C375.4844,-449.7735 368.4125,-437.7513 361.8348,-426.5691\"/>\n",
       "<polygon fill=\"#000000\" stroke=\"#000000\" points=\"364.7723,-424.6597 356.6853,-417.8149 358.7387,-428.2089 364.7723,-424.6597\"/>\n",
       "<text text-anchor=\"middle\" x=\"350.4112\" y=\"-438.3149\" font-family=\"Helvetica,sans-Serif\" font-size=\"14.00\" fill=\"#000000\">True</text>\n",
       "</g>\n",
       "<!-- 2 -->\n",
       "<g id=\"node3\" class=\"node\">\n",
       "<title>2</title>\n",
       "<path fill=\"#ffffff\" stroke=\"#000000\" d=\"M528,-425C528,-425 425,-425 425,-425 419,-425 413,-419 413,-413 413,-413 413,-354 413,-354 413,-348 419,-342 425,-342 425,-342 528,-342 528,-342 534,-342 540,-348 540,-354 540,-354 540,-413 540,-413 540,-419 534,-425 528,-425\"/>\n",
       "<text text-anchor=\"start\" x=\"421\" y=\"-409.8\" font-family=\"Helvetica,sans-Serif\" font-size=\"14.00\" fill=\"#000000\">petal_width ≤ 1.75</text>\n",
       "<text text-anchor=\"start\" x=\"448.5\" y=\"-394.8\" font-family=\"Helvetica,sans-Serif\" font-size=\"14.00\" fill=\"#000000\">gini = 0.5</text>\n",
       "<text text-anchor=\"start\" x=\"435.5\" y=\"-379.8\" font-family=\"Helvetica,sans-Serif\" font-size=\"14.00\" fill=\"#000000\">samples = 70</text>\n",
       "<text text-anchor=\"start\" x=\"422\" y=\"-364.8\" font-family=\"Helvetica,sans-Serif\" font-size=\"14.00\" fill=\"#000000\">value = [0, 35, 35]</text>\n",
       "<text text-anchor=\"start\" x=\"449\" y=\"-349.8\" font-family=\"Helvetica,sans-Serif\" font-size=\"14.00\" fill=\"#000000\">class = p</text>\n",
       "</g>\n",
       "<!-- 0&#45;&gt;2 -->\n",
       "<g id=\"edge2\" class=\"edge\">\n",
       "<title>0&#45;&gt;2</title>\n",
       "<path fill=\"none\" stroke=\"#000000\" d=\"M430.9826,-460.8796C436.0685,-452.2335 441.4811,-443.0322 446.7328,-434.1042\"/>\n",
       "<polygon fill=\"#000000\" stroke=\"#000000\" points=\"449.8594,-435.692 451.9129,-425.2981 443.8259,-432.1428 449.8594,-435.692\"/>\n",
       "<text text-anchor=\"middle\" x=\"458.187\" y=\"-445.798\" font-family=\"Helvetica,sans-Serif\" font-size=\"14.00\" fill=\"#000000\">False</text>\n",
       "</g>\n",
       "<!-- 3 -->\n",
       "<g id=\"node4\" class=\"node\">\n",
       "<title>3</title>\n",
       "<path fill=\"#4ae78c\" stroke=\"#000000\" d=\"M433.5,-306C433.5,-306 325.5,-306 325.5,-306 319.5,-306 313.5,-300 313.5,-294 313.5,-294 313.5,-235 313.5,-235 313.5,-229 319.5,-223 325.5,-223 325.5,-223 433.5,-223 433.5,-223 439.5,-223 445.5,-229 445.5,-235 445.5,-235 445.5,-294 445.5,-294 445.5,-300 439.5,-306 433.5,-306\"/>\n",
       "<text text-anchor=\"start\" x=\"321.5\" y=\"-290.8\" font-family=\"Helvetica,sans-Serif\" font-size=\"14.00\" fill=\"#000000\">petal_length ≤ 4.95</text>\n",
       "<text text-anchor=\"start\" x=\"344\" y=\"-275.8\" font-family=\"Helvetica,sans-Serif\" font-size=\"14.00\" fill=\"#000000\">gini = 0.149</text>\n",
       "<text text-anchor=\"start\" x=\"338.5\" y=\"-260.8\" font-family=\"Helvetica,sans-Serif\" font-size=\"14.00\" fill=\"#000000\">samples = 37</text>\n",
       "<text text-anchor=\"start\" x=\"329\" y=\"-245.8\" font-family=\"Helvetica,sans-Serif\" font-size=\"14.00\" fill=\"#000000\">value = [0, 34, 3]</text>\n",
       "<text text-anchor=\"start\" x=\"352\" y=\"-230.8\" font-family=\"Helvetica,sans-Serif\" font-size=\"14.00\" fill=\"#000000\">class = p</text>\n",
       "</g>\n",
       "<!-- 2&#45;&gt;3 -->\n",
       "<g id=\"edge3\" class=\"edge\">\n",
       "<title>2&#45;&gt;3</title>\n",
       "<path fill=\"none\" stroke=\"#000000\" d=\"M442.5741,-341.8796C435.3062,-332.9633 427.557,-323.4565 420.0672,-314.268\"/>\n",
       "<polygon fill=\"#000000\" stroke=\"#000000\" points=\"422.6018,-311.8379 413.5707,-306.2981 417.176,-316.2606 422.6018,-311.8379\"/>\n",
       "</g>\n",
       "<!-- 10 -->\n",
       "<g id=\"node11\" class=\"node\">\n",
       "<title>10</title>\n",
       "<path fill=\"#853fe6\" stroke=\"#000000\" d=\"M628.5,-306C628.5,-306 520.5,-306 520.5,-306 514.5,-306 508.5,-300 508.5,-294 508.5,-294 508.5,-235 508.5,-235 508.5,-229 514.5,-223 520.5,-223 520.5,-223 628.5,-223 628.5,-223 634.5,-223 640.5,-229 640.5,-235 640.5,-235 640.5,-294 640.5,-294 640.5,-300 634.5,-306 628.5,-306\"/>\n",
       "<text text-anchor=\"start\" x=\"516.5\" y=\"-290.8\" font-family=\"Helvetica,sans-Serif\" font-size=\"14.00\" fill=\"#000000\">petal_length ≤ 4.85</text>\n",
       "<text text-anchor=\"start\" x=\"539\" y=\"-275.8\" font-family=\"Helvetica,sans-Serif\" font-size=\"14.00\" fill=\"#000000\">gini = 0.059</text>\n",
       "<text text-anchor=\"start\" x=\"533.5\" y=\"-260.8\" font-family=\"Helvetica,sans-Serif\" font-size=\"14.00\" fill=\"#000000\">samples = 33</text>\n",
       "<text text-anchor=\"start\" x=\"524\" y=\"-245.8\" font-family=\"Helvetica,sans-Serif\" font-size=\"14.00\" fill=\"#000000\">value = [0, 1, 32]</text>\n",
       "<text text-anchor=\"start\" x=\"547\" y=\"-230.8\" font-family=\"Helvetica,sans-Serif\" font-size=\"14.00\" fill=\"#000000\">class = e</text>\n",
       "</g>\n",
       "<!-- 2&#45;&gt;10 -->\n",
       "<g id=\"edge10\" class=\"edge\">\n",
       "<title>2&#45;&gt;10</title>\n",
       "<path fill=\"none\" stroke=\"#000000\" d=\"M510.7756,-341.8796C518.1184,-332.9633 525.9476,-323.4565 533.5146,-314.268\"/>\n",
       "<polygon fill=\"#000000\" stroke=\"#000000\" points=\"536.4227,-316.2424 540.0781,-306.2981 531.0192,-311.7924 536.4227,-316.2424\"/>\n",
       "</g>\n",
       "<!-- 4 -->\n",
       "<g id=\"node5\" class=\"node\">\n",
       "<title>4</title>\n",
       "<path fill=\"#3fe685\" stroke=\"#000000\" d=\"M242,-187C242,-187 139,-187 139,-187 133,-187 127,-181 127,-175 127,-175 127,-116 127,-116 127,-110 133,-104 139,-104 139,-104 242,-104 242,-104 248,-104 254,-110 254,-116 254,-116 254,-175 254,-175 254,-181 248,-187 242,-187\"/>\n",
       "<text text-anchor=\"start\" x=\"135\" y=\"-171.8\" font-family=\"Helvetica,sans-Serif\" font-size=\"14.00\" fill=\"#000000\">petal_width ≤ 1.65</text>\n",
       "<text text-anchor=\"start\" x=\"155\" y=\"-156.8\" font-family=\"Helvetica,sans-Serif\" font-size=\"14.00\" fill=\"#000000\">gini = 0.059</text>\n",
       "<text text-anchor=\"start\" x=\"149.5\" y=\"-141.8\" font-family=\"Helvetica,sans-Serif\" font-size=\"14.00\" fill=\"#000000\">samples = 33</text>\n",
       "<text text-anchor=\"start\" x=\"140\" y=\"-126.8\" font-family=\"Helvetica,sans-Serif\" font-size=\"14.00\" fill=\"#000000\">value = [0, 32, 1]</text>\n",
       "<text text-anchor=\"start\" x=\"163\" y=\"-111.8\" font-family=\"Helvetica,sans-Serif\" font-size=\"14.00\" fill=\"#000000\">class = p</text>\n",
       "</g>\n",
       "<!-- 3&#45;&gt;4 -->\n",
       "<g id=\"edge4\" class=\"edge\">\n",
       "<title>3&#45;&gt;4</title>\n",
       "<path fill=\"none\" stroke=\"#000000\" d=\"M313.397,-222.8796C296.9896,-212.549 279.3232,-201.4257 262.6428,-190.9232\"/>\n",
       "<polygon fill=\"#000000\" stroke=\"#000000\" points=\"264.3489,-187.8615 254.0217,-185.4952 260.6192,-193.7852 264.3489,-187.8615\"/>\n",
       "</g>\n",
       "<!-- 7 -->\n",
       "<g id=\"node8\" class=\"node\">\n",
       "<title>7</title>\n",
       "<path fill=\"#ffffff\" stroke=\"#000000\" d=\"M431,-187C431,-187 328,-187 328,-187 322,-187 316,-181 316,-175 316,-175 316,-116 316,-116 316,-110 322,-104 328,-104 328,-104 431,-104 431,-104 437,-104 443,-110 443,-116 443,-116 443,-175 443,-175 443,-181 437,-187 431,-187\"/>\n",
       "<text text-anchor=\"start\" x=\"324\" y=\"-171.8\" font-family=\"Helvetica,sans-Serif\" font-size=\"14.00\" fill=\"#000000\">petal_width ≤ 1.55</text>\n",
       "<text text-anchor=\"start\" x=\"351.5\" y=\"-156.8\" font-family=\"Helvetica,sans-Serif\" font-size=\"14.00\" fill=\"#000000\">gini = 0.5</text>\n",
       "<text text-anchor=\"start\" x=\"342\" y=\"-141.8\" font-family=\"Helvetica,sans-Serif\" font-size=\"14.00\" fill=\"#000000\">samples = 4</text>\n",
       "<text text-anchor=\"start\" x=\"332.5\" y=\"-126.8\" font-family=\"Helvetica,sans-Serif\" font-size=\"14.00\" fill=\"#000000\">value = [0, 2, 2]</text>\n",
       "<text text-anchor=\"start\" x=\"352\" y=\"-111.8\" font-family=\"Helvetica,sans-Serif\" font-size=\"14.00\" fill=\"#000000\">class = p</text>\n",
       "</g>\n",
       "<!-- 3&#45;&gt;7 -->\n",
       "<g id=\"edge7\" class=\"edge\">\n",
       "<title>3&#45;&gt;7</title>\n",
       "<path fill=\"none\" stroke=\"#000000\" d=\"M379.5,-222.8796C379.5,-214.6838 379.5,-205.9891 379.5,-197.5013\"/>\n",
       "<polygon fill=\"#000000\" stroke=\"#000000\" points=\"383.0001,-197.298 379.5,-187.2981 376.0001,-197.2981 383.0001,-197.298\"/>\n",
       "</g>\n",
       "<!-- 5 -->\n",
       "<g id=\"node6\" class=\"node\">\n",
       "<title>5</title>\n",
       "<path fill=\"#39e581\" stroke=\"#000000\" d=\"M105,-68C105,-68 12,-68 12,-68 6,-68 0,-62 0,-56 0,-56 0,-12 0,-12 0,-6 6,0 12,0 12,0 105,0 105,0 111,0 117,-6 117,-12 117,-12 117,-56 117,-56 117,-62 111,-68 105,-68\"/>\n",
       "<text text-anchor=\"start\" x=\"30.5\" y=\"-52.8\" font-family=\"Helvetica,sans-Serif\" font-size=\"14.00\" fill=\"#000000\">gini = 0.0</text>\n",
       "<text text-anchor=\"start\" x=\"17.5\" y=\"-37.8\" font-family=\"Helvetica,sans-Serif\" font-size=\"14.00\" fill=\"#000000\">samples = 32</text>\n",
       "<text text-anchor=\"start\" x=\"8\" y=\"-22.8\" font-family=\"Helvetica,sans-Serif\" font-size=\"14.00\" fill=\"#000000\">value = [0, 32, 0]</text>\n",
       "<text text-anchor=\"start\" x=\"31\" y=\"-7.8\" font-family=\"Helvetica,sans-Serif\" font-size=\"14.00\" fill=\"#000000\">class = p</text>\n",
       "</g>\n",
       "<!-- 4&#45;&gt;5 -->\n",
       "<g id=\"edge5\" class=\"edge\">\n",
       "<title>4&#45;&gt;5</title>\n",
       "<path fill=\"none\" stroke=\"#000000\" d=\"M141.3481,-103.9815C130.0324,-94.4232 118.0087,-84.2668 106.7325,-74.7419\"/>\n",
       "<polygon fill=\"#000000\" stroke=\"#000000\" points=\"108.9612,-72.0429 99.0633,-68.2637 104.4441,-77.3904 108.9612,-72.0429\"/>\n",
       "</g>\n",
       "<!-- 6 -->\n",
       "<g id=\"node7\" class=\"node\">\n",
       "<title>6</title>\n",
       "<path fill=\"#8139e5\" stroke=\"#000000\" d=\"M233.5,-68C233.5,-68 147.5,-68 147.5,-68 141.5,-68 135.5,-62 135.5,-56 135.5,-56 135.5,-12 135.5,-12 135.5,-6 141.5,0 147.5,0 147.5,0 233.5,0 233.5,0 239.5,0 245.5,-6 245.5,-12 245.5,-12 245.5,-56 245.5,-56 245.5,-62 239.5,-68 233.5,-68\"/>\n",
       "<text text-anchor=\"start\" x=\"162.5\" y=\"-52.8\" font-family=\"Helvetica,sans-Serif\" font-size=\"14.00\" fill=\"#000000\">gini = 0.0</text>\n",
       "<text text-anchor=\"start\" x=\"153\" y=\"-37.8\" font-family=\"Helvetica,sans-Serif\" font-size=\"14.00\" fill=\"#000000\">samples = 1</text>\n",
       "<text text-anchor=\"start\" x=\"143.5\" y=\"-22.8\" font-family=\"Helvetica,sans-Serif\" font-size=\"14.00\" fill=\"#000000\">value = [0, 0, 1]</text>\n",
       "<text text-anchor=\"start\" x=\"163\" y=\"-7.8\" font-family=\"Helvetica,sans-Serif\" font-size=\"14.00\" fill=\"#000000\">class = e</text>\n",
       "</g>\n",
       "<!-- 4&#45;&gt;6 -->\n",
       "<g id=\"edge6\" class=\"edge\">\n",
       "<title>4&#45;&gt;6</title>\n",
       "<path fill=\"none\" stroke=\"#000000\" d=\"M190.5,-103.9815C190.5,-95.618 190.5,-86.7965 190.5,-78.3409\"/>\n",
       "<polygon fill=\"#000000\" stroke=\"#000000\" points=\"194.0001,-78.2636 190.5,-68.2637 187.0001,-78.2637 194.0001,-78.2636\"/>\n",
       "</g>\n",
       "<!-- 8 -->\n",
       "<g id=\"node9\" class=\"node\">\n",
       "<title>8</title>\n",
       "<path fill=\"#8139e5\" stroke=\"#000000\" d=\"M361.5,-68C361.5,-68 275.5,-68 275.5,-68 269.5,-68 263.5,-62 263.5,-56 263.5,-56 263.5,-12 263.5,-12 263.5,-6 269.5,0 275.5,0 275.5,0 361.5,0 361.5,0 367.5,0 373.5,-6 373.5,-12 373.5,-12 373.5,-56 373.5,-56 373.5,-62 367.5,-68 361.5,-68\"/>\n",
       "<text text-anchor=\"start\" x=\"290.5\" y=\"-52.8\" font-family=\"Helvetica,sans-Serif\" font-size=\"14.00\" fill=\"#000000\">gini = 0.0</text>\n",
       "<text text-anchor=\"start\" x=\"281\" y=\"-37.8\" font-family=\"Helvetica,sans-Serif\" font-size=\"14.00\" fill=\"#000000\">samples = 2</text>\n",
       "<text text-anchor=\"start\" x=\"271.5\" y=\"-22.8\" font-family=\"Helvetica,sans-Serif\" font-size=\"14.00\" fill=\"#000000\">value = [0, 0, 2]</text>\n",
       "<text text-anchor=\"start\" x=\"291\" y=\"-7.8\" font-family=\"Helvetica,sans-Serif\" font-size=\"14.00\" fill=\"#000000\">class = e</text>\n",
       "</g>\n",
       "<!-- 7&#45;&gt;8 -->\n",
       "<g id=\"edge8\" class=\"edge\">\n",
       "<title>7&#45;&gt;8</title>\n",
       "<path fill=\"none\" stroke=\"#000000\" d=\"M356.7859,-103.9815C352.0092,-95.2504 346.9595,-86.0202 342.1494,-77.2281\"/>\n",
       "<polygon fill=\"#000000\" stroke=\"#000000\" points=\"345.1153,-75.3568 337.2451,-68.2637 338.9742,-78.7165 345.1153,-75.3568\"/>\n",
       "</g>\n",
       "<!-- 9 -->\n",
       "<g id=\"node10\" class=\"node\">\n",
       "<title>9</title>\n",
       "<path fill=\"#39e581\" stroke=\"#000000\" d=\"M489.5,-68C489.5,-68 403.5,-68 403.5,-68 397.5,-68 391.5,-62 391.5,-56 391.5,-56 391.5,-12 391.5,-12 391.5,-6 397.5,0 403.5,0 403.5,0 489.5,0 489.5,0 495.5,0 501.5,-6 501.5,-12 501.5,-12 501.5,-56 501.5,-56 501.5,-62 495.5,-68 489.5,-68\"/>\n",
       "<text text-anchor=\"start\" x=\"418.5\" y=\"-52.8\" font-family=\"Helvetica,sans-Serif\" font-size=\"14.00\" fill=\"#000000\">gini = 0.0</text>\n",
       "<text text-anchor=\"start\" x=\"409\" y=\"-37.8\" font-family=\"Helvetica,sans-Serif\" font-size=\"14.00\" fill=\"#000000\">samples = 2</text>\n",
       "<text text-anchor=\"start\" x=\"399.5\" y=\"-22.8\" font-family=\"Helvetica,sans-Serif\" font-size=\"14.00\" fill=\"#000000\">value = [0, 2, 0]</text>\n",
       "<text text-anchor=\"start\" x=\"419\" y=\"-7.8\" font-family=\"Helvetica,sans-Serif\" font-size=\"14.00\" fill=\"#000000\">class = p</text>\n",
       "</g>\n",
       "<!-- 7&#45;&gt;9 -->\n",
       "<g id=\"edge9\" class=\"edge\">\n",
       "<title>7&#45;&gt;9</title>\n",
       "<path fill=\"none\" stroke=\"#000000\" d=\"M404.4483,-103.9815C409.7501,-95.1585 415.3581,-85.8258 420.6911,-76.9506\"/>\n",
       "<polygon fill=\"#000000\" stroke=\"#000000\" points=\"423.7605,-78.638 425.9111,-68.2637 417.7604,-75.0325 423.7605,-78.638\"/>\n",
       "</g>\n",
       "<!-- 11 -->\n",
       "<g id=\"node12\" class=\"node\">\n",
       "<title>11</title>\n",
       "<path fill=\"#c09cf2\" stroke=\"#000000\" d=\"M630,-187C630,-187 519,-187 519,-187 513,-187 507,-181 507,-175 507,-175 507,-116 507,-116 507,-110 513,-104 519,-104 519,-104 630,-104 630,-104 636,-104 642,-110 642,-116 642,-116 642,-175 642,-175 642,-181 636,-187 630,-187\"/>\n",
       "<text text-anchor=\"start\" x=\"515\" y=\"-171.8\" font-family=\"Helvetica,sans-Serif\" font-size=\"14.00\" fill=\"#000000\">sepal_length ≤ 5.95</text>\n",
       "<text text-anchor=\"start\" x=\"539\" y=\"-156.8\" font-family=\"Helvetica,sans-Serif\" font-size=\"14.00\" fill=\"#000000\">gini = 0.444</text>\n",
       "<text text-anchor=\"start\" x=\"537\" y=\"-141.8\" font-family=\"Helvetica,sans-Serif\" font-size=\"14.00\" fill=\"#000000\">samples = 3</text>\n",
       "<text text-anchor=\"start\" x=\"527.5\" y=\"-126.8\" font-family=\"Helvetica,sans-Serif\" font-size=\"14.00\" fill=\"#000000\">value = [0, 1, 2]</text>\n",
       "<text text-anchor=\"start\" x=\"547\" y=\"-111.8\" font-family=\"Helvetica,sans-Serif\" font-size=\"14.00\" fill=\"#000000\">class = e</text>\n",
       "</g>\n",
       "<!-- 10&#45;&gt;11 -->\n",
       "<g id=\"edge11\" class=\"edge\">\n",
       "<title>10&#45;&gt;11</title>\n",
       "<path fill=\"none\" stroke=\"#000000\" d=\"M574.5,-222.8796C574.5,-214.6838 574.5,-205.9891 574.5,-197.5013\"/>\n",
       "<polygon fill=\"#000000\" stroke=\"#000000\" points=\"578.0001,-197.298 574.5,-187.2981 571.0001,-197.2981 578.0001,-197.298\"/>\n",
       "</g>\n",
       "<!-- 14 -->\n",
       "<g id=\"node15\" class=\"node\">\n",
       "<title>14</title>\n",
       "<path fill=\"#8139e5\" stroke=\"#000000\" d=\"M765,-179.5C765,-179.5 672,-179.5 672,-179.5 666,-179.5 660,-173.5 660,-167.5 660,-167.5 660,-123.5 660,-123.5 660,-117.5 666,-111.5 672,-111.5 672,-111.5 765,-111.5 765,-111.5 771,-111.5 777,-117.5 777,-123.5 777,-123.5 777,-167.5 777,-167.5 777,-173.5 771,-179.5 765,-179.5\"/>\n",
       "<text text-anchor=\"start\" x=\"690.5\" y=\"-164.3\" font-family=\"Helvetica,sans-Serif\" font-size=\"14.00\" fill=\"#000000\">gini = 0.0</text>\n",
       "<text text-anchor=\"start\" x=\"677.5\" y=\"-149.3\" font-family=\"Helvetica,sans-Serif\" font-size=\"14.00\" fill=\"#000000\">samples = 30</text>\n",
       "<text text-anchor=\"start\" x=\"668\" y=\"-134.3\" font-family=\"Helvetica,sans-Serif\" font-size=\"14.00\" fill=\"#000000\">value = [0, 0, 30]</text>\n",
       "<text text-anchor=\"start\" x=\"691\" y=\"-119.3\" font-family=\"Helvetica,sans-Serif\" font-size=\"14.00\" fill=\"#000000\">class = e</text>\n",
       "</g>\n",
       "<!-- 10&#45;&gt;14 -->\n",
       "<g id=\"edge14\" class=\"edge\">\n",
       "<title>10&#45;&gt;14</title>\n",
       "<path fill=\"none\" stroke=\"#000000\" d=\"M624.8642,-222.8796C639.2349,-211.0038 654.8733,-198.0804 669.1808,-186.2568\"/>\n",
       "<polygon fill=\"#000000\" stroke=\"#000000\" points=\"671.4971,-188.8831 676.976,-179.8149 667.038,-183.4872 671.4971,-188.8831\"/>\n",
       "</g>\n",
       "<!-- 12 -->\n",
       "<g id=\"node13\" class=\"node\">\n",
       "<title>12</title>\n",
       "<path fill=\"#39e581\" stroke=\"#000000\" d=\"M617.5,-68C617.5,-68 531.5,-68 531.5,-68 525.5,-68 519.5,-62 519.5,-56 519.5,-56 519.5,-12 519.5,-12 519.5,-6 525.5,0 531.5,0 531.5,0 617.5,0 617.5,0 623.5,0 629.5,-6 629.5,-12 629.5,-12 629.5,-56 629.5,-56 629.5,-62 623.5,-68 617.5,-68\"/>\n",
       "<text text-anchor=\"start\" x=\"546.5\" y=\"-52.8\" font-family=\"Helvetica,sans-Serif\" font-size=\"14.00\" fill=\"#000000\">gini = 0.0</text>\n",
       "<text text-anchor=\"start\" x=\"537\" y=\"-37.8\" font-family=\"Helvetica,sans-Serif\" font-size=\"14.00\" fill=\"#000000\">samples = 1</text>\n",
       "<text text-anchor=\"start\" x=\"527.5\" y=\"-22.8\" font-family=\"Helvetica,sans-Serif\" font-size=\"14.00\" fill=\"#000000\">value = [0, 1, 0]</text>\n",
       "<text text-anchor=\"start\" x=\"547\" y=\"-7.8\" font-family=\"Helvetica,sans-Serif\" font-size=\"14.00\" fill=\"#000000\">class = p</text>\n",
       "</g>\n",
       "<!-- 11&#45;&gt;12 -->\n",
       "<g id=\"edge12\" class=\"edge\">\n",
       "<title>11&#45;&gt;12</title>\n",
       "<path fill=\"none\" stroke=\"#000000\" d=\"M574.5,-103.9815C574.5,-95.618 574.5,-86.7965 574.5,-78.3409\"/>\n",
       "<polygon fill=\"#000000\" stroke=\"#000000\" points=\"578.0001,-78.2636 574.5,-68.2637 571.0001,-78.2637 578.0001,-78.2636\"/>\n",
       "</g>\n",
       "<!-- 13 -->\n",
       "<g id=\"node14\" class=\"node\">\n",
       "<title>13</title>\n",
       "<path fill=\"#8139e5\" stroke=\"#000000\" d=\"M745.5,-68C745.5,-68 659.5,-68 659.5,-68 653.5,-68 647.5,-62 647.5,-56 647.5,-56 647.5,-12 647.5,-12 647.5,-6 653.5,0 659.5,0 659.5,0 745.5,0 745.5,0 751.5,0 757.5,-6 757.5,-12 757.5,-12 757.5,-56 757.5,-56 757.5,-62 751.5,-68 745.5,-68\"/>\n",
       "<text text-anchor=\"start\" x=\"674.5\" y=\"-52.8\" font-family=\"Helvetica,sans-Serif\" font-size=\"14.00\" fill=\"#000000\">gini = 0.0</text>\n",
       "<text text-anchor=\"start\" x=\"665\" y=\"-37.8\" font-family=\"Helvetica,sans-Serif\" font-size=\"14.00\" fill=\"#000000\">samples = 2</text>\n",
       "<text text-anchor=\"start\" x=\"655.5\" y=\"-22.8\" font-family=\"Helvetica,sans-Serif\" font-size=\"14.00\" fill=\"#000000\">value = [0, 0, 2]</text>\n",
       "<text text-anchor=\"start\" x=\"675\" y=\"-7.8\" font-family=\"Helvetica,sans-Serif\" font-size=\"14.00\" fill=\"#000000\">class = e</text>\n",
       "</g>\n",
       "<!-- 11&#45;&gt;13 -->\n",
       "<g id=\"edge13\" class=\"edge\">\n",
       "<title>11&#45;&gt;13</title>\n",
       "<path fill=\"none\" stroke=\"#000000\" d=\"M622.1625,-103.9815C633.0297,-94.5151 644.5705,-84.462 655.4135,-75.0168\"/>\n",
       "<polygon fill=\"#000000\" stroke=\"#000000\" points=\"657.9245,-77.4712 663.1659,-68.2637 653.3266,-72.1929 657.9245,-77.4712\"/>\n",
       "</g>\n",
       "</g>\n",
       "</svg>\n"
      ],
      "text/plain": [
       "<graphviz.files.Source at 0x7f6af70620d0>"
      ]
     },
     "execution_count": 15,
     "metadata": {},
     "output_type": "execute_result"
    }
   ],
   "source": [
    "feature_names = X.columns.to_list() # lista contendo o nome dos atributos \n",
    "\n",
    "dot_data = export_graphviz(model, out_file=None, \n",
    "                           feature_names=feature_names, \n",
    "                           class_names='species', \n",
    "                           filled=True, rounded=True, \n",
    "                           special_characters=True) \n",
    "\n",
    "graphviz.Source(dot_data)"
   ]
  }
 ],
 "metadata": {
  "accelerator": "GPU",
  "colab": {
   "collapsed_sections": [],
   "name": "Data_Mining_Iris.ipynb",
   "provenance": []
  },
  "kernelspec": {
   "display_name": "Python 3",
   "language": "python",
   "name": "python3"
  },
  "language_info": {
   "codemirror_mode": {
    "name": "ipython",
    "version": 3
   },
   "file_extension": ".py",
   "mimetype": "text/x-python",
   "name": "python",
   "nbconvert_exporter": "python",
   "pygments_lexer": "ipython3",
   "version": "3.7.5"
  }
 },
 "nbformat": 4,
 "nbformat_minor": 4
}
