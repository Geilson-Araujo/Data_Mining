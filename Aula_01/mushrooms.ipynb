{
 "cells": [
  {
   "cell_type": "markdown",
   "metadata": {
    "colab_type": "text",
    "id": "mjy1-uzhvuIx"
   },
   "source": [
    "# Data mining - Introdução à Análise Exploratória de Dados\n",
    "___\n",
    "## Mushroom Classification\n",
    "\n",
    "![mushroom](https://images6.alphacoders.com/436/436376.jpg)\n",
    "\n",
    "Esse notebook utiliza técnicas de análise exploratória de dados([AED](https://pt.wikipedia.org/wiki/An%C3%A1lise_explorat%C3%B3ria_de_dados)), primeira etapa no processo de análise de dados.\n",
    "\n",
    "Utilizaremos a base de dados [mushroom classification: safe to eat or deadly poison?](https://www.kaggle.com/uciml/mushroom-classification), livremente disponível na plataforma [Kaggle](https://www.kaggle.com/).   \n",
    "\n",
    "O processo está divido de acordo com as seguintes etapas:\n",
    "\n",
    "1. [Importação e carregamento da base de dados](#01)\n",
    "2. [Visualização da base de dados](#02)\n",
    "3. [Estatísticas](#03)\n",
    "4. [Gráficos](#04)\n",
    "5. [Árvore de decisão](#05)"
   ]
  },
  {
   "cell_type": "markdown",
   "metadata": {
    "colab_type": "text",
    "id": "TM9z8PpMQ7U8"
   },
   "source": [
    "## Importação e carregamento da base de dados  \n",
    "\n",
    "Nesse estudo de caso, a base de dados está disponível em um arquivo `.xlsx` (Excel).   \n",
    "\n",
    "Para carregarmos esse arquivo, será necessário utilizarmos o método `read_excel()` da biblioteca `pandas`.   \n",
    "\n",
    "Esse método possui parâmetros semelhantes ao `read_csv`, utilizado no exercício anterior, quando trabalhamos com o dataset __Iris__. "
   ]
  },
  {
   "cell_type": "markdown",
   "metadata": {
    "colab_type": "text",
    "id": "nLnmCZvovuI8"
   },
   "source": [
    "<div class=\"alert alert-block alert-info\">\n",
    "<b>Dica:</b> Nesse exemplo, o arquivo .xlsx está na mesma pasta do arquivo do jupyter nootebook. Se os arquivos estivessem em pastas diferentes, seria necessário informar entre aspas - duplas ou simples -, o caminho completo do arquivo.\n",
    "</div>"
   ]
  },
  {
   "cell_type": "markdown",
   "metadata": {
    "colab_type": "text",
    "id": "2NndE2-VvuI-"
   },
   "source": [
    "<div class=\"alert alert-block alert-warning\">\n",
    "<b>Observação:</b> Pode ser necessário instalar uma dependência para suporte a arquivos Excel: xlrd. \n",
    "</div>"
   ]
  },
  {
   "cell_type": "code",
   "execution_count": 30,
   "metadata": {
    "colab": {},
    "colab_type": "code",
    "id": "-oQcZoH-vuJA"
   },
   "outputs": [],
   "source": [
    "# Caso seja necessário instalar a dependência xlrd, descomente a linha abaixo e execute essa célula.\n",
    "# !pip install xlrd"
   ]
  },
  {
   "cell_type": "code",
   "execution_count": 31,
   "metadata": {
    "colab": {},
    "colab_type": "code",
    "id": "LXkw2VDQm3UU"
   },
   "outputs": [],
   "source": [
    "# Bibliotecas para manipulação de dados\n",
    "import pandas as pd\n",
    "import numpy as np\n",
    "\n",
    "# Bibliotecas para utilização de gráficos\n",
    "import matplotlib.pyplot as plt \n",
    "import seaborn as sns\n",
    "\n",
    "%matplotlib inline"
   ]
  },
  {
   "cell_type": "code",
   "execution_count": 32,
   "metadata": {
    "colab": {},
    "colab_type": "code",
    "id": "A97jltkXoRkx"
   },
   "outputs": [],
   "source": [
    "# Carrega a base de dados\n",
    "mushrooms = pd.read_excel('mushrooms.xlsx')"
   ]
  },
  {
   "cell_type": "markdown",
   "metadata": {
    "colab_type": "text",
    "id": "ubUcSRxbUNVu"
   },
   "source": [
    "A biblioteca `pandas` utiliza uma estrutura de dados tabulados, denominada `DataFrame`, para armazenar os dados contidos no arquivo Excel.\n",
    "\n",
    "Acima, esses dados foram carregados em um `DataFrame` e, por sua vez, essa estrutura foi atribuída à variável `mushrooms`.\n",
    "\n",
    "O método `type()` permite verificar qual o tipo da estrutura armazenada nessa variável."
   ]
  },
  {
   "cell_type": "code",
   "execution_count": 33,
   "metadata": {
    "colab": {
     "base_uri": "https://localhost:8080/",
     "height": 34
    },
    "colab_type": "code",
    "id": "miWD2X4KTXE-",
    "outputId": "e0913951-4c4e-486b-fb9b-a63a668c71dc"
   },
   "outputs": [
    {
     "data": {
      "text/plain": [
       "pandas.core.frame.DataFrame"
      ]
     },
     "execution_count": 33,
     "metadata": {},
     "output_type": "execute_result"
    }
   ],
   "source": [
    "type(mushrooms)"
   ]
  },
  {
   "cell_type": "markdown",
   "metadata": {
    "colab_type": "text",
    "id": "QIhqWvVRd5ev"
   },
   "source": [
    "<div class=\"alert alert-block alert-info\">\n",
    "<b>Dica:</b> A função type() pemite verificar o tipo de qualquer objeto em Python.\n",
    "</div>"
   ]
  },
  {
   "cell_type": "markdown",
   "metadata": {
    "colab_type": "text",
    "id": "4h0yp4c9vuJd"
   },
   "source": [
    "## Visualização da base de dados"
   ]
  },
  {
   "cell_type": "markdown",
   "metadata": {
    "colab_type": "text",
    "id": "xSm7AA93TUDI"
   },
   "source": [
    "O atributo `shape` permite identificar as dimensões, a quantidade de linhas e colunas da base de dados. "
   ]
  },
  {
   "cell_type": "code",
   "execution_count": 34,
   "metadata": {
    "colab": {
     "base_uri": "https://localhost:8080/",
     "height": 34
    },
    "colab_type": "code",
    "id": "WW910xjZV3x_",
    "outputId": "6547336a-d047-4320-9650-ce453ea1aed0"
   },
   "outputs": [
    {
     "data": {
      "text/plain": [
       "(5936, 22)"
      ]
     },
     "execution_count": 34,
     "metadata": {},
     "output_type": "execute_result"
    }
   ],
   "source": [
    "mushrooms.shape"
   ]
  },
  {
   "cell_type": "markdown",
   "metadata": {
    "colab_type": "text",
    "id": "gkYQQ-skV3jl"
   },
   "source": [
    "Como a maioria das bases de dados possui uma grande quantidade de linhas, podemos utilizar o método `head()`, que exibe apenas suas cinco primeiras linhas; ou `tail()`, que exibe as cinco últimas. "
   ]
  },
  {
   "cell_type": "code",
   "execution_count": 35,
   "metadata": {
    "colab": {
     "base_uri": "https://localhost:8080/",
     "height": 224
    },
    "colab_type": "code",
    "id": "j7QBupb0pGLI",
    "outputId": "7f7ea89f-9429-44d6-99a1-aadb65ecb573"
   },
   "outputs": [
    {
     "data": {
      "text/html": [
       "<div>\n",
       "<style scoped>\n",
       "    .dataframe tbody tr th:only-of-type {\n",
       "        vertical-align: middle;\n",
       "    }\n",
       "\n",
       "    .dataframe tbody tr th {\n",
       "        vertical-align: top;\n",
       "    }\n",
       "\n",
       "    .dataframe thead th {\n",
       "        text-align: right;\n",
       "    }\n",
       "</style>\n",
       "<table border=\"1\" class=\"dataframe\">\n",
       "  <thead>\n",
       "    <tr style=\"text-align: right;\">\n",
       "      <th></th>\n",
       "      <th>cap.shape</th>\n",
       "      <th>cap.surface</th>\n",
       "      <th>cap.color</th>\n",
       "      <th>bruises</th>\n",
       "      <th>odor</th>\n",
       "      <th>gill.attachment</th>\n",
       "      <th>gill.spacing</th>\n",
       "      <th>gill.size</th>\n",
       "      <th>gill.color</th>\n",
       "      <th>stalk.shape</th>\n",
       "      <th>...</th>\n",
       "      <th>stalk.surface.below.ring</th>\n",
       "      <th>stalk.color.above.ring</th>\n",
       "      <th>stalk.color.below.ring</th>\n",
       "      <th>veil.color</th>\n",
       "      <th>ring.number</th>\n",
       "      <th>ring.type</th>\n",
       "      <th>spore.print.color</th>\n",
       "      <th>population</th>\n",
       "      <th>habitat.</th>\n",
       "      <th>class</th>\n",
       "    </tr>\n",
       "  </thead>\n",
       "  <tbody>\n",
       "    <tr>\n",
       "      <td>0</td>\n",
       "      <td>BELL</td>\n",
       "      <td>SCALY</td>\n",
       "      <td>BUFF</td>\n",
       "      <td>BRUISES</td>\n",
       "      <td>NONE</td>\n",
       "      <td>FREE</td>\n",
       "      <td>CLOSE</td>\n",
       "      <td>BROAD</td>\n",
       "      <td>WHITE</td>\n",
       "      <td>ENLARGING</td>\n",
       "      <td>...</td>\n",
       "      <td>SMOOTH</td>\n",
       "      <td>WHITE</td>\n",
       "      <td>WHITE</td>\n",
       "      <td>WHITE</td>\n",
       "      <td>TWO</td>\n",
       "      <td>PENDANT</td>\n",
       "      <td>GREEN</td>\n",
       "      <td>SEVERAL</td>\n",
       "      <td>GRASSES</td>\n",
       "      <td>POISONOUS</td>\n",
       "    </tr>\n",
       "    <tr>\n",
       "      <td>1</td>\n",
       "      <td>CONVEX</td>\n",
       "      <td>SMOOTH</td>\n",
       "      <td>WHITE</td>\n",
       "      <td>NO</td>\n",
       "      <td>NONE</td>\n",
       "      <td>FREE</td>\n",
       "      <td>CROWDED</td>\n",
       "      <td>BROAD</td>\n",
       "      <td>BROWN</td>\n",
       "      <td>TAPERING</td>\n",
       "      <td>...</td>\n",
       "      <td>SMOOTH</td>\n",
       "      <td>WHITE</td>\n",
       "      <td>WHITE</td>\n",
       "      <td>WHITE</td>\n",
       "      <td>ONE</td>\n",
       "      <td>EVANESCENT</td>\n",
       "      <td>BLACK</td>\n",
       "      <td>ABUNDANT</td>\n",
       "      <td>GRASSES</td>\n",
       "      <td>EDIBLE</td>\n",
       "    </tr>\n",
       "    <tr>\n",
       "      <td>2</td>\n",
       "      <td>FLAT</td>\n",
       "      <td>SMOOTH</td>\n",
       "      <td>WHITE</td>\n",
       "      <td>NO</td>\n",
       "      <td>NONE</td>\n",
       "      <td>FREE</td>\n",
       "      <td>CROWDED</td>\n",
       "      <td>BROAD</td>\n",
       "      <td>BROWN</td>\n",
       "      <td>TAPERING</td>\n",
       "      <td>...</td>\n",
       "      <td>SMOOTH</td>\n",
       "      <td>WHITE</td>\n",
       "      <td>WHITE</td>\n",
       "      <td>WHITE</td>\n",
       "      <td>ONE</td>\n",
       "      <td>EVANESCENT</td>\n",
       "      <td>BLACK</td>\n",
       "      <td>ABUNDANT</td>\n",
       "      <td>GRASSES</td>\n",
       "      <td>EDIBLE</td>\n",
       "    </tr>\n",
       "    <tr>\n",
       "      <td>3</td>\n",
       "      <td>CONVEX</td>\n",
       "      <td>FIBROUS</td>\n",
       "      <td>BROWN</td>\n",
       "      <td>NO</td>\n",
       "      <td>NONE</td>\n",
       "      <td>FREE</td>\n",
       "      <td>CLOSE</td>\n",
       "      <td>NARROW</td>\n",
       "      <td>BLACK</td>\n",
       "      <td>ENLARGING</td>\n",
       "      <td>...</td>\n",
       "      <td>SMOOTH</td>\n",
       "      <td>WHITE</td>\n",
       "      <td>WHITE</td>\n",
       "      <td>WHITE</td>\n",
       "      <td>ONE</td>\n",
       "      <td>PENDANT</td>\n",
       "      <td>BROWN</td>\n",
       "      <td>SOLITARY</td>\n",
       "      <td>URBAN</td>\n",
       "      <td>EDIBLE</td>\n",
       "    </tr>\n",
       "    <tr>\n",
       "      <td>4</td>\n",
       "      <td>FLAT</td>\n",
       "      <td>FIBROUS</td>\n",
       "      <td>BROWN</td>\n",
       "      <td>BRUISES</td>\n",
       "      <td>NONE</td>\n",
       "      <td>FREE</td>\n",
       "      <td>CLOSE</td>\n",
       "      <td>BROAD</td>\n",
       "      <td>BROWN</td>\n",
       "      <td>TAPERING</td>\n",
       "      <td>...</td>\n",
       "      <td>SMOOTH</td>\n",
       "      <td>WHITE</td>\n",
       "      <td>PINK</td>\n",
       "      <td>WHITE</td>\n",
       "      <td>ONE</td>\n",
       "      <td>PENDANT</td>\n",
       "      <td>BROWN</td>\n",
       "      <td>SOLITARY</td>\n",
       "      <td>WOODS</td>\n",
       "      <td>EDIBLE</td>\n",
       "    </tr>\n",
       "  </tbody>\n",
       "</table>\n",
       "<p>5 rows × 22 columns</p>\n",
       "</div>"
      ],
      "text/plain": [
       "  cap.shape cap.surface cap.color  bruises  odor gill.attachment gill.spacing  \\\n",
       "0      BELL       SCALY      BUFF  BRUISES  NONE            FREE        CLOSE   \n",
       "1    CONVEX      SMOOTH     WHITE       NO  NONE            FREE      CROWDED   \n",
       "2      FLAT      SMOOTH     WHITE       NO  NONE            FREE      CROWDED   \n",
       "3    CONVEX     FIBROUS     BROWN       NO  NONE            FREE        CLOSE   \n",
       "4      FLAT     FIBROUS     BROWN  BRUISES  NONE            FREE        CLOSE   \n",
       "\n",
       "  gill.size gill.color stalk.shape  ... stalk.surface.below.ring  \\\n",
       "0     BROAD      WHITE   ENLARGING  ...                   SMOOTH   \n",
       "1     BROAD      BROWN    TAPERING  ...                   SMOOTH   \n",
       "2     BROAD      BROWN    TAPERING  ...                   SMOOTH   \n",
       "3    NARROW      BLACK   ENLARGING  ...                   SMOOTH   \n",
       "4     BROAD      BROWN    TAPERING  ...                   SMOOTH   \n",
       "\n",
       "  stalk.color.above.ring stalk.color.below.ring veil.color ring.number  \\\n",
       "0                  WHITE                  WHITE      WHITE         TWO   \n",
       "1                  WHITE                  WHITE      WHITE         ONE   \n",
       "2                  WHITE                  WHITE      WHITE         ONE   \n",
       "3                  WHITE                  WHITE      WHITE         ONE   \n",
       "4                  WHITE                   PINK      WHITE         ONE   \n",
       "\n",
       "    ring.type spore.print.color population habitat.      class  \n",
       "0     PENDANT             GREEN    SEVERAL  GRASSES  POISONOUS  \n",
       "1  EVANESCENT             BLACK   ABUNDANT  GRASSES     EDIBLE  \n",
       "2  EVANESCENT             BLACK   ABUNDANT  GRASSES     EDIBLE  \n",
       "3     PENDANT             BROWN   SOLITARY    URBAN     EDIBLE  \n",
       "4     PENDANT             BROWN   SOLITARY    WOODS     EDIBLE  \n",
       "\n",
       "[5 rows x 22 columns]"
      ]
     },
     "execution_count": 35,
     "metadata": {},
     "output_type": "execute_result"
    }
   ],
   "source": [
    "mushrooms.head()"
   ]
  },
  {
   "cell_type": "markdown",
   "metadata": {
    "colab_type": "text",
    "id": "7q8b1vIsZ425"
   },
   "source": [
    "## Estatísticas\n",
    "Em princípio, todas as variáveis do dataset são categóricas.\n",
    "\n",
    "Podemos verificar rapidamente essa informação utilizando o método `info()`."
   ]
  },
  {
   "cell_type": "code",
   "execution_count": 36,
   "metadata": {
    "colab": {
     "base_uri": "https://localhost:8080/",
     "height": 476
    },
    "colab_type": "code",
    "id": "7rngttlAbSv-",
    "outputId": "4da33b3d-03aa-4751-9c61-74167e023dd8"
   },
   "outputs": [
    {
     "name": "stdout",
     "output_type": "stream",
     "text": [
      "<class 'pandas.core.frame.DataFrame'>\n",
      "RangeIndex: 5936 entries, 0 to 5935\n",
      "Data columns (total 22 columns):\n",
      "cap.shape                   5936 non-null object\n",
      "cap.surface                 5936 non-null object\n",
      "cap.color                   5936 non-null object\n",
      "bruises                     5936 non-null object\n",
      "odor                        5936 non-null object\n",
      "gill.attachment             5936 non-null object\n",
      "gill.spacing                5936 non-null object\n",
      "gill.size                   5936 non-null object\n",
      "gill.color                  5936 non-null object\n",
      "stalk.shape                 5936 non-null object\n",
      "stalk.root                  5936 non-null object\n",
      "stalk.surface.above.ring    5936 non-null object\n",
      "stalk.surface.below.ring    5936 non-null object\n",
      "stalk.color.above.ring      5936 non-null object\n",
      "stalk.color.below.ring      5936 non-null object\n",
      "veil.color                  5936 non-null object\n",
      "ring.number                 5936 non-null object\n",
      "ring.type                   5936 non-null object\n",
      "spore.print.color           5936 non-null object\n",
      "population                  5936 non-null object\n",
      "habitat.                    5936 non-null object\n",
      "class                       5936 non-null object\n",
      "dtypes: object(22)\n",
      "memory usage: 1020.4+ KB\n"
     ]
    }
   ],
   "source": [
    "mushrooms.info()"
   ]
  },
  {
   "cell_type": "markdown",
   "metadata": {
    "colab_type": "text",
    "id": "Y5cC4-ILbcgz"
   },
   "source": [
    "Dessa forma, confirmamos que o `pandas` interpreta todas as variáveis do dataset como categóricas; ou melhor, como `object`, que é uma definição genérica para variáveis não numéricas.\n",
    "\n",
    "Podemos explicitar que essas variáveis devem ser interpretadas como categóricas. Uma das vantagens dessa especificação seria o menor consumo de memória e, por consequência, ganho de performace na execução do código.\n",
    "\n",
    "Como todas as variáveis do dataset são categóricas, um modo simples de dizer ao `pandas` que as variáveis devem ser interpretadas daquela forma, seria utilizando o parâmetro `dtype` no carregamento da base de dados."
   ]
  },
  {
   "cell_type": "code",
   "execution_count": 37,
   "metadata": {
    "colab": {},
    "colab_type": "code",
    "id": "0BF0_V6VdJSc"
   },
   "outputs": [],
   "source": [
    "# Carrega a base de dados, definido o tipo das variáveis como categóricas\n",
    "mushrooms = pd.read_excel('mushrooms.xlsx', dtype='category')"
   ]
  },
  {
   "cell_type": "code",
   "execution_count": 38,
   "metadata": {
    "colab": {
     "base_uri": "https://localhost:8080/",
     "height": 476
    },
    "colab_type": "code",
    "id": "YNXbss34dXfS",
    "outputId": "bc633fb8-1012-4a4d-e679-4e6b535cc5b1"
   },
   "outputs": [
    {
     "name": "stdout",
     "output_type": "stream",
     "text": [
      "<class 'pandas.core.frame.DataFrame'>\n",
      "RangeIndex: 5936 entries, 0 to 5935\n",
      "Data columns (total 22 columns):\n",
      "cap.shape                   5936 non-null category\n",
      "cap.surface                 5936 non-null category\n",
      "cap.color                   5936 non-null category\n",
      "bruises                     5936 non-null category\n",
      "odor                        5936 non-null category\n",
      "gill.attachment             5936 non-null category\n",
      "gill.spacing                5936 non-null category\n",
      "gill.size                   5936 non-null category\n",
      "gill.color                  5936 non-null category\n",
      "stalk.shape                 5936 non-null category\n",
      "stalk.root                  5936 non-null category\n",
      "stalk.surface.above.ring    5936 non-null category\n",
      "stalk.surface.below.ring    5936 non-null category\n",
      "stalk.color.above.ring      5936 non-null category\n",
      "stalk.color.below.ring      5936 non-null category\n",
      "veil.color                  5936 non-null category\n",
      "ring.number                 5936 non-null category\n",
      "ring.type                   5936 non-null category\n",
      "spore.print.color           5936 non-null category\n",
      "population                  5936 non-null category\n",
      "habitat.                    5936 non-null category\n",
      "class                       5936 non-null category\n",
      "dtypes: category(22)\n",
      "memory usage: 131.6 KB\n"
     ]
    }
   ],
   "source": [
    "mushrooms.info()"
   ]
  },
  {
   "cell_type": "markdown",
   "metadata": {
    "colab_type": "text",
    "id": "lluAl8Wcdql8"
   },
   "source": [
    "Observamos, assim, na última coluna acima, todas as variáveis do dataset devidamente \"tipadas\" como categóricas."
   ]
  },
  {
   "cell_type": "markdown",
   "metadata": {
    "colab_type": "text",
    "id": "xi9bM14fvuJ2"
   },
   "source": [
    "<div class=\"alert alert-block alert-info\">\n",
    "<b>Dica:</b> Podemos verificar a funcionalidade de objetos em Python por meio da função help().\n",
    "</div>"
   ]
  },
  {
   "cell_type": "code",
   "execution_count": 39,
   "metadata": {
    "colab": {},
    "colab_type": "code",
    "id": "EKabMpp7vuJ3"
   },
   "outputs": [],
   "source": [
    "# Descomente a linha abaixo e execute essa célula caso queira compreender detalhadamente o método read_excel\n",
    "# help(pd.read_excel)"
   ]
  },
  {
   "cell_type": "markdown",
   "metadata": {
    "colab_type": "text",
    "id": "PgqKCJH08MjX"
   },
   "source": [
    "O método `describe()` exibe algumas medidas estatíticas.   \n",
    "\n",
    "Para variáveis categóricas, esse método exibe as seguintes medidas:  \n",
    "\n",
    "* count - Quantidade de observações contidas na coluna;\n",
    "* unique - Número de observações distindas;\n",
    "* top - Observação que possui maior frequência;\n",
    "* freq - Frequência da observação _top_."
   ]
  },
  {
   "cell_type": "code",
   "execution_count": 40,
   "metadata": {
    "colab": {
     "base_uri": "https://localhost:8080/",
     "height": 193
    },
    "colab_type": "code",
    "id": "_1UNP4Q9vuJ-",
    "outputId": "7eab8663-1790-44f7-f88a-ab6de8074dca"
   },
   "outputs": [
    {
     "data": {
      "text/html": [
       "<div>\n",
       "<style scoped>\n",
       "    .dataframe tbody tr th:only-of-type {\n",
       "        vertical-align: middle;\n",
       "    }\n",
       "\n",
       "    .dataframe tbody tr th {\n",
       "        vertical-align: top;\n",
       "    }\n",
       "\n",
       "    .dataframe thead th {\n",
       "        text-align: right;\n",
       "    }\n",
       "</style>\n",
       "<table border=\"1\" class=\"dataframe\">\n",
       "  <thead>\n",
       "    <tr style=\"text-align: right;\">\n",
       "      <th></th>\n",
       "      <th>cap.shape</th>\n",
       "      <th>cap.surface</th>\n",
       "      <th>cap.color</th>\n",
       "      <th>bruises</th>\n",
       "      <th>odor</th>\n",
       "      <th>gill.attachment</th>\n",
       "      <th>gill.spacing</th>\n",
       "      <th>gill.size</th>\n",
       "      <th>gill.color</th>\n",
       "      <th>stalk.shape</th>\n",
       "      <th>...</th>\n",
       "      <th>stalk.surface.below.ring</th>\n",
       "      <th>stalk.color.above.ring</th>\n",
       "      <th>stalk.color.below.ring</th>\n",
       "      <th>veil.color</th>\n",
       "      <th>ring.number</th>\n",
       "      <th>ring.type</th>\n",
       "      <th>spore.print.color</th>\n",
       "      <th>population</th>\n",
       "      <th>habitat.</th>\n",
       "      <th>class</th>\n",
       "    </tr>\n",
       "  </thead>\n",
       "  <tbody>\n",
       "    <tr>\n",
       "      <td>count</td>\n",
       "      <td>5936</td>\n",
       "      <td>5936</td>\n",
       "      <td>5936</td>\n",
       "      <td>5936</td>\n",
       "      <td>5936</td>\n",
       "      <td>5936</td>\n",
       "      <td>5936</td>\n",
       "      <td>5936</td>\n",
       "      <td>5936</td>\n",
       "      <td>5936</td>\n",
       "      <td>...</td>\n",
       "      <td>5936</td>\n",
       "      <td>5936</td>\n",
       "      <td>5936</td>\n",
       "      <td>5936</td>\n",
       "      <td>5936</td>\n",
       "      <td>5936</td>\n",
       "      <td>5936</td>\n",
       "      <td>5936</td>\n",
       "      <td>5936</td>\n",
       "      <td>5936</td>\n",
       "    </tr>\n",
       "    <tr>\n",
       "      <td>unique</td>\n",
       "      <td>6</td>\n",
       "      <td>4</td>\n",
       "      <td>8</td>\n",
       "      <td>2</td>\n",
       "      <td>7</td>\n",
       "      <td>2</td>\n",
       "      <td>2</td>\n",
       "      <td>2</td>\n",
       "      <td>9</td>\n",
       "      <td>2</td>\n",
       "      <td>...</td>\n",
       "      <td>4</td>\n",
       "      <td>7</td>\n",
       "      <td>7</td>\n",
       "      <td>2</td>\n",
       "      <td>3</td>\n",
       "      <td>4</td>\n",
       "      <td>6</td>\n",
       "      <td>6</td>\n",
       "      <td>6</td>\n",
       "      <td>2</td>\n",
       "    </tr>\n",
       "    <tr>\n",
       "      <td>top</td>\n",
       "      <td>CONVEX</td>\n",
       "      <td>FIBROUS</td>\n",
       "      <td>GRAY</td>\n",
       "      <td>BRUISES</td>\n",
       "      <td>NONE</td>\n",
       "      <td>FREE</td>\n",
       "      <td>CLOSE</td>\n",
       "      <td>BROAD</td>\n",
       "      <td>PINK</td>\n",
       "      <td>TAPERING</td>\n",
       "      <td>...</td>\n",
       "      <td>SMOOTH</td>\n",
       "      <td>WHITE</td>\n",
       "      <td>WHITE</td>\n",
       "      <td>WHITE</td>\n",
       "      <td>ONE</td>\n",
       "      <td>PENDANT</td>\n",
       "      <td>BROWN</td>\n",
       "      <td>SEVERAL</td>\n",
       "      <td>WOODS</td>\n",
       "      <td>EDIBLE</td>\n",
       "    </tr>\n",
       "    <tr>\n",
       "      <td>freq</td>\n",
       "      <td>2980</td>\n",
       "      <td>2300</td>\n",
       "      <td>1952</td>\n",
       "      <td>3184</td>\n",
       "      <td>3056</td>\n",
       "      <td>5912</td>\n",
       "      <td>4632</td>\n",
       "      <td>5208</td>\n",
       "      <td>1448</td>\n",
       "      <td>3136</td>\n",
       "      <td>...</td>\n",
       "      <td>3684</td>\n",
       "      <td>3416</td>\n",
       "      <td>3344</td>\n",
       "      <td>5928</td>\n",
       "      <td>5768</td>\n",
       "      <td>3488</td>\n",
       "      <td>2048</td>\n",
       "      <td>2184</td>\n",
       "      <td>2504</td>\n",
       "      <td>3768</td>\n",
       "    </tr>\n",
       "  </tbody>\n",
       "</table>\n",
       "<p>4 rows × 22 columns</p>\n",
       "</div>"
      ],
      "text/plain": [
       "       cap.shape cap.surface cap.color  bruises  odor gill.attachment  \\\n",
       "count       5936        5936      5936     5936  5936            5936   \n",
       "unique         6           4         8        2     7               2   \n",
       "top       CONVEX     FIBROUS      GRAY  BRUISES  NONE            FREE   \n",
       "freq        2980        2300      1952     3184  3056            5912   \n",
       "\n",
       "       gill.spacing gill.size gill.color stalk.shape  ...  \\\n",
       "count          5936      5936       5936        5936  ...   \n",
       "unique            2         2          9           2  ...   \n",
       "top           CLOSE     BROAD       PINK    TAPERING  ...   \n",
       "freq           4632      5208       1448        3136  ...   \n",
       "\n",
       "       stalk.surface.below.ring stalk.color.above.ring stalk.color.below.ring  \\\n",
       "count                      5936                   5936                   5936   \n",
       "unique                        4                      7                      7   \n",
       "top                      SMOOTH                  WHITE                  WHITE   \n",
       "freq                       3684                   3416                   3344   \n",
       "\n",
       "       veil.color ring.number ring.type spore.print.color population habitat.  \\\n",
       "count        5936        5936      5936              5936       5936     5936   \n",
       "unique          2           3         4                 6          6        6   \n",
       "top         WHITE         ONE   PENDANT             BROWN    SEVERAL    WOODS   \n",
       "freq         5928        5768      3488              2048       2184     2504   \n",
       "\n",
       "         class  \n",
       "count     5936  \n",
       "unique       2  \n",
       "top     EDIBLE  \n",
       "freq      3768  \n",
       "\n",
       "[4 rows x 22 columns]"
      ]
     },
     "execution_count": 40,
     "metadata": {},
     "output_type": "execute_result"
    }
   ],
   "source": [
    "mushrooms.describe()"
   ]
  },
  {
   "cell_type": "markdown",
   "metadata": {
    "colab_type": "text",
    "id": "-Alp6wPf-TI0"
   },
   "source": [
    "O código abaixo verifica o balanceamento de cada uma das variáveis(colunas), de acordo com seus elementos únicos."
   ]
  },
  {
   "cell_type": "code",
   "execution_count": 41,
   "metadata": {
    "colab": {
     "base_uri": "https://localhost:8080/",
     "height": 1000
    },
    "colab_type": "code",
    "id": "jMieCW3csXQg",
    "outputId": "0698f8f6-0291-453c-fa1c-f5d2e98f56fa"
   },
   "outputs": [
    {
     "name": "stdout",
     "output_type": "stream",
     "text": [
      "Característica: Cap Shape\n",
      "CONVEX     2980\n",
      "FLAT       2572\n",
      "BELL        300\n",
      "KNOBBED      48\n",
      "SUNKEN       32\n",
      "CONICAL       4\n",
      "Name: cap.shape, dtype: int64\n",
      "--------------------------------------------------\n",
      " \n",
      "Característica: Cap Surface\n",
      "FIBROUS    2300\n",
      "SCALY      2244\n",
      "SMOOTH     1388\n",
      "GROOVES       4\n",
      "Name: cap.surface, dtype: int64\n",
      "--------------------------------------------------\n",
      " \n",
      "Característica: Cap Color\n",
      "GRAY        1952\n",
      "BROWN       1200\n",
      "YELLOW      1056\n",
      "WHITE        880\n",
      "RED          588\n",
      "BUFF         120\n",
      "PINK          96\n",
      "CINNAMON      44\n",
      "Name: cap.color, dtype: int64\n",
      "--------------------------------------------------\n",
      " \n",
      "Característica: Bruises\n",
      "BRUISES    3184\n",
      "NO         2752\n",
      "Name: bruises, dtype: int64\n",
      "--------------------------------------------------\n",
      " \n",
      "Característica: Odor\n",
      "NONE        3056\n",
      "FOUL        1584\n",
      "ANISE        400\n",
      "ALMOND       400\n",
      "PUNGENT      256\n",
      "CREOSOTE     192\n",
      "MUSTY         48\n",
      "Name: odor, dtype: int64\n",
      "--------------------------------------------------\n",
      " \n",
      "Característica: Gill Attachment\n",
      "FREE        5912\n",
      "ATTACHED      24\n",
      "Name: gill.attachment, dtype: int64\n",
      "--------------------------------------------------\n",
      " \n",
      "Característica: Gill Spacing\n",
      "CLOSE      4632\n",
      "CROWDED    1304\n",
      "Name: gill.spacing, dtype: int64\n",
      "--------------------------------------------------\n",
      " \n",
      "Característica: Gill Size\n",
      "BROAD     5208\n",
      "NARROW     728\n",
      "Name: gill.size, dtype: int64\n",
      "--------------------------------------------------\n",
      " \n",
      "Característica: Gill Color\n",
      "PINK         1448\n",
      "BROWN        1048\n",
      "WHITE         996\n",
      "CHOCOLATE     784\n",
      "GRAY          656\n",
      "PURPLE        480\n",
      "BLACK         472\n",
      "YELLOW         28\n",
      "GREEN          24\n",
      "Name: gill.color, dtype: int64\n",
      "--------------------------------------------------\n",
      " \n",
      "Característica: Stalk Shape\n",
      "TAPERING     3136\n",
      "ENLARGING    2800\n",
      "Name: stalk.shape, dtype: int64\n",
      "--------------------------------------------------\n",
      " \n",
      "Característica: Stalk Root\n",
      "BULBOUS    3800\n",
      "EQUAL      1376\n",
      "CLUB        568\n",
      "ROOTED      192\n",
      "Name: stalk.root, dtype: int64\n",
      "--------------------------------------------------\n",
      " \n",
      "Característica: Stalk Surface Above Ring\n",
      "SMOOTH     3876\n",
      "SILKY      1344\n",
      "FIBROUS     692\n",
      "SCALY        24\n",
      "Name: stalk.surface.above.ring, dtype: int64\n",
      "--------------------------------------------------\n",
      " \n",
      "Característica: Stalk Surface Below Ring\n",
      "SMOOTH     3684\n",
      "SILKY      1296\n",
      "FIBROUS     692\n",
      "SCALY       264\n",
      "Name: stalk.surface.below.ring, dtype: int64\n",
      "--------------------------------------------------\n",
      " \n",
      "Característica: Stalk Color Above Ring\n",
      "WHITE       3416\n",
      "PINK        1008\n",
      "GRAY         576\n",
      "BROWN        448\n",
      "BUFF         432\n",
      "CINNAMON      48\n",
      "YELLOW         8\n",
      "Name: stalk.color.above.ring, dtype: int64\n",
      "--------------------------------------------------\n",
      " \n",
      "Característica: Stalk Color Below Ring\n",
      "WHITE       3344\n",
      "PINK        1008\n",
      "GRAY         576\n",
      "BROWN        520\n",
      "BUFF         432\n",
      "CINNAMON      48\n",
      "YELLOW         8\n",
      "Name: stalk.color.below.ring, dtype: int64\n",
      "--------------------------------------------------\n",
      " \n",
      "Característica: Veil Color\n",
      "WHITE     5928\n",
      "YELLOW       8\n",
      "Name: veil.color, dtype: int64\n",
      "--------------------------------------------------\n",
      " \n",
      "Característica: Ring Number\n",
      "ONE     5768\n",
      "TWO      120\n",
      "NONE      48\n",
      "Name: ring.number, dtype: int64\n",
      "--------------------------------------------------\n",
      " \n",
      "Característica: Ring Type\n",
      "PENDANT       3488\n",
      "LARGE         1296\n",
      "EVANESCENT    1104\n",
      "NONE            48\n",
      "Name: ring.type, dtype: int64\n",
      "--------------------------------------------------\n",
      " \n",
      "Característica: Spore Print Color\n",
      "BROWN        2048\n",
      "BLACK        2000\n",
      "CHOCOLATE    1584\n",
      "WHITE         184\n",
      "GREEN          72\n",
      "PURPLE         48\n",
      "Name: spore.print.color, dtype: int64\n",
      "--------------------------------------------------\n",
      " \n",
      "Característica: Population\n",
      "SEVERAL      2184\n",
      "SOLITARY     1688\n",
      "SCATTERED    1232\n",
      "ABUNDANT      512\n",
      "NUMEROUS      256\n",
      "CLUSTERED      64\n",
      "Name: population, dtype: int64\n",
      "--------------------------------------------------\n",
      " \n",
      "Característica: Habitat \n",
      "WOODS      2504\n",
      "GRASSES    2116\n",
      "PATHS       568\n",
      "URBAN       368\n",
      "MEADOWS     292\n",
      "LEAVES       88\n",
      "Name: habitat., dtype: int64\n",
      "--------------------------------------------------\n",
      " \n",
      "Característica: Class\n",
      "EDIBLE       3768\n",
      "POISONOUS    2168\n",
      "Name: class, dtype: int64\n",
      "--------------------------------------------------\n",
      " \n"
     ]
    }
   ],
   "source": [
    "features = mushrooms.columns.to_list() # cria uma lista contendo o nome das colunas\n",
    "\n",
    "#Reporta a distribuição de elementos contidos em cada coluna do dataset\n",
    "for feature in features: \n",
    "    print(f'Característica: {feature.replace(\".\", \" \").title()}',          \n",
    "          mushrooms[feature].value_counts(dropna=False),\n",
    "          # f'Quantidade de valores distintos: {len(np.unique(mushrooms[feature]))}',\n",
    "          '-' * 50,\n",
    "          ' ',\n",
    "          sep='\\n')"
   ]
  },
  {
   "cell_type": "markdown",
   "metadata": {
    "colab_type": "text",
    "id": "ZuQvH0DwDnOM"
   },
   "source": [
    "## Gráficos\n",
    "\n",
    "Utilizaremos nessa sessão o __gráfico de barras__, um dos mais indicados para  dados categóricos.\n",
    "\n",
    "Plotaremos os gráficos referentes as seguintes variáveis do dataset:\n",
    "\n",
    "* odor;\n",
    "* veil.color;\n",
    "* stalk.shape;\n",
    "* class.\n",
    "\n",
    "O Python possui inúmeras bibliotecas gráficas. Utilizaremos as mais conhecidas: [matplotib](https://matplotlib.org/) e [seaborn](https://seaborn.pydata.org/index.html)."
   ]
  },
  {
   "cell_type": "code",
   "execution_count": 42,
   "metadata": {
    "colab": {
     "base_uri": "https://localhost:8080/",
     "height": 447
    },
    "colab_type": "code",
    "id": "vw0l5n72FabD",
    "outputId": "67953a5e-5ab8-4986-b7a6-94dc79906ffc"
   },
   "outputs": [
    {
     "data": {
      "image/png": "[encoded data removed]",
      "text/plain": [
       "<Figure size 864x504 with 1 Axes>"
      ]
     },
     "metadata": {},
     "output_type": "display_data"
    }
   ],
   "source": [
    "sns.set()\n",
    "\n",
    "# Gráfico de barras: odor\n",
    "fig, ax = plt.subplots(figsize=(12, 7))\n",
    "\n",
    "sns.countplot(         \n",
    "    x='odor',                   \n",
    "    data=mushrooms,   \n",
    "    hue='class', \n",
    "    # dodge=False, \n",
    "    palette='muted', \n",
    "    )\n",
    "\n",
    "ax.set(\n",
    "    xlabel=None,\n",
    "    ylabel='Frequência',\n",
    "    title='Característica: odor'\n",
    "       )\n",
    "\n",
    "ax.legend(loc='best').set_title(None)\n",
    "\n",
    "plt.show()"
   ]
  },
  {
   "cell_type": "code",
   "execution_count": 43,
   "metadata": {
    "colab": {
     "base_uri": "https://localhost:8080/",
     "height": 447
    },
    "colab_type": "code",
    "id": "YAuSKW4VMQ8K",
    "outputId": "700754c8-3077-4784-c56e-ff8fe6b902b8"
   },
   "outputs": [
    {
     "data": {
      "image/png": "[encoded data removed]",
      "text/plain": [
       "<Figure size 864x504 with 1 Axes>"
      ]
     },
     "metadata": {},
     "output_type": "display_data"
    }
   ],
   "source": [
    "# Gráfico de barras: veil.color\n",
    "fig, ax = plt.subplots(figsize=(12, 7))\n",
    "\n",
    "sns.countplot(         \n",
    "    x='veil.color',                   \n",
    "    data=mushrooms,   \n",
    "    hue='class', \n",
    "    # dodge=False, \n",
    "    palette='muted', \n",
    "    )\n",
    "\n",
    "ax.set(\n",
    "    xlabel=None,\n",
    "    ylabel='Frequência',\n",
    "    title='Característica: veil.color'\n",
    "       )\n",
    "\n",
    "ax.legend(loc='best').set_title(None)\n",
    "\n",
    "plt.show()"
   ]
  },
  {
   "cell_type": "markdown",
   "metadata": {
    "colab_type": "text",
    "id": "fHlt9VhwMQOO"
   },
   "source": [
    "Diferentemente do observado no RapidMiner e R, somente por meio desse gráfico não conseguimos visualizar a presença de observaçãos de cor amarelo.\n",
    "\n",
    "Apesar desse atributo possuir apenas duas variáveis (branca e amarela), Há uma diferença significativa entre suas frequências. E a cor amarela representa apenas 1(um) por cento desses valores."
   ]
  },
  {
   "cell_type": "code",
   "execution_count": 44,
   "metadata": {
    "colab": {
     "base_uri": "https://localhost:8080/",
     "height": 68
    },
    "colab_type": "code",
    "id": "iRj2kTV4OHoS",
    "outputId": "4140a51d-b4fa-4088-abb0-2593da21bcec"
   },
   "outputs": [
    {
     "data": {
      "text/plain": [
       "WHITE     0.998652\n",
       "YELLOW    0.001348\n",
       "Name: veil.color, dtype: float64"
      ]
     },
     "execution_count": 44,
     "metadata": {},
     "output_type": "execute_result"
    }
   ],
   "source": [
    "mushrooms['veil.color'].value_counts(dropna=False, normalize=True)"
   ]
  },
  {
   "cell_type": "markdown",
   "metadata": {
    "colab_type": "text",
    "id": "GuqWgL3ZPGIO"
   },
   "source": [
    "Uma forma de compararmos variáveis com diferenças significativas de escala, seria utlizando a escala __logarítmica__.\n",
    "\n",
    "Faremos uma pequena alteração no código acima, modificando a escala das frequências para __logarítmica__. Dessa forma, poderemos visualizar os dados da cor amarela."
   ]
  },
  {
   "cell_type": "code",
   "execution_count": 45,
   "metadata": {
    "colab": {
     "base_uri": "https://localhost:8080/",
     "height": 447
    },
    "colab_type": "code",
    "id": "R3-npflRNBPG",
    "outputId": "0c983735-a8d4-4121-ac41-2fe9a5c58482"
   },
   "outputs": [
    {
     "data": {
      "image/png": "[encoded data removed]",
      "text/plain": [
       "<Figure size 864x504 with 1 Axes>"
      ]
     },
     "metadata": {},
     "output_type": "display_data"
    }
   ],
   "source": [
    "# Gráfico de barras: veil.color, escala logarítmica \n",
    "fig, ax = plt.subplots(figsize=(12, 7))\n",
    "\n",
    "sns.countplot(         \n",
    "    x='veil.color',                   \n",
    "    data=mushrooms,   \n",
    "    hue='class', \n",
    "    # dodge=False, \n",
    "    palette='muted', \n",
    "    )\n",
    "\n",
    "ax.set(\n",
    "    xlabel=None,\n",
    "    ylabel='Frequência',\n",
    "    yscale='log', # define a escala utilizada para a ordenada\n",
    "    title='Característica: veil.color'\n",
    "       )\n",
    "\n",
    "ax.legend(loc='best').set_title(None)\n",
    "\n",
    "plt.show()"
   ]
  },
  {
   "cell_type": "code",
   "execution_count": 46,
   "metadata": {
    "colab": {
     "base_uri": "https://localhost:8080/",
     "height": 447
    },
    "colab_type": "code",
    "id": "fyyftqiEQItc",
    "outputId": "24d878f0-b715-4407-c40c-82b17431d0c4"
   },
   "outputs": [
    {
     "data": {
      "image/png": "[encoded data removed]",
      "text/plain": [
       "<Figure size 864x504 with 1 Axes>"
      ]
     },
     "metadata": {},
     "output_type": "display_data"
    }
   ],
   "source": [
    "# Gráfico de barras: stalk.shape\n",
    "fig, ax = plt.subplots(figsize=(12, 7))\n",
    "\n",
    "sns.countplot(         \n",
    "    x='stalk.shape',                   \n",
    "    data=mushrooms,   \n",
    "    hue='class', \n",
    "    # dodge=False, \n",
    "    palette='muted', \n",
    "    )\n",
    "\n",
    "ax.set(\n",
    "    xlabel=None,\n",
    "    ylabel='Frequência',\n",
    "    title='Característica: stalk.shape'\n",
    "       )\n",
    "\n",
    "ax.legend(loc='best', labels=['Comestível', 'Venenoso']).set_title(None)\n",
    "\n",
    "plt.show()"
   ]
  },
  {
   "cell_type": "code",
   "execution_count": 47,
   "metadata": {
    "colab": {
     "base_uri": "https://localhost:8080/",
     "height": 68
    },
    "colab_type": "code",
    "id": "4xQk2h6V_SO-",
    "outputId": "2c673cab-38a2-4f22-d851-33de0df4a0b1"
   },
   "outputs": [
    {
     "data": {
      "text/plain": [
       "EDIBLE       0.634771\n",
       "POISONOUS    0.365229\n",
       "Name: class, dtype: float64"
      ]
     },
     "execution_count": 47,
     "metadata": {},
     "output_type": "execute_result"
    }
   ],
   "source": [
    "# Balanceamento da classe\n",
    "mushrooms['class'].value_counts(dropna=False, normalize=True)"
   ]
  },
  {
   "cell_type": "markdown",
   "metadata": {
    "colab_type": "text",
    "id": "bmxEjD19T_GC"
   },
   "source": [
    "## Árvore de decisão"
   ]
  },
  {
   "cell_type": "code",
   "execution_count": 48,
   "metadata": {
    "colab": {},
    "colab_type": "code",
    "id": "E6KVVoLQvcek"
   },
   "outputs": [],
   "source": [
    "# Biblioteca para geração de gráficos\n",
    "import graphviz\n",
    "\n",
    "# Biblioteca para transformação de variáveis categóricas em numéricas\n",
    "from category_encoders.target_encoder import TargetEncoder\n",
    "\n",
    "# Bibliotecas de machine learning\n",
    "from sklearn.model_selection import train_test_split\n",
    "from sklearn.tree import DecisionTreeClassifier, export_graphviz\n",
    "from sklearn.metrics import (accuracy_score, confusion_matrix,\n",
    "                             classification_report)"
   ]
  },
  {
   "cell_type": "code",
   "execution_count": 49,
   "metadata": {
    "colab": {},
    "colab_type": "code",
    "id": "DxK5zYynqeO4"
   },
   "outputs": [],
   "source": [
    "# Descomente a linha abaixo e execute essa célula caso seja necessário instalar a biblioteca graphviz\n",
    "# !pip install graphviz"
   ]
  },
  {
   "cell_type": "code",
   "execution_count": 50,
   "metadata": {
    "colab": {},
    "colab_type": "code",
    "id": "90QcWofcqeO8"
   },
   "outputs": [],
   "source": [
    "# Descomente a linha abaixo e execute essa célula caso seja necessário instalar a biblioteca category_encoders\n",
    "# !pip install category_encoders"
   ]
  },
  {
   "cell_type": "code",
   "execution_count": 51,
   "metadata": {
    "colab": {},
    "colab_type": "code",
    "id": "XeapFeC4wr1f"
   },
   "outputs": [],
   "source": [
    "# Separa os dados previsores dos de classe\n",
    "X = mushrooms.drop('class', axis=1) \n",
    "y = mushrooms['class']              "
   ]
  },
  {
   "cell_type": "markdown",
   "metadata": {
    "colab_type": "text",
    "id": "5jtRF6ioyzMT"
   },
   "source": [
    "Em Python é necessário que as variáveis utilizadas nos modelos de machine learning sejam numéricas.\n",
    "\n",
    "Logo, será preciso transformar as variáveis categóricas do dataset em variáveis numéricas. \n",
    "\n",
    "Com a finalidade de preservar as colunas do dataset, utilizaremos um método conhecido por [Target Encoder](https://contrib.scikit-learn.org/categorical-encoding/targetencoder.html)."
   ]
  },
  {
   "cell_type": "code",
   "execution_count": 52,
   "metadata": {
    "colab": {
     "base_uri": "https://localhost:8080/",
     "height": 224
    },
    "colab_type": "code",
    "id": "lyZZhOswz_GM",
    "outputId": "860a8364-6557-4e8b-e7cf-5a74a00e5771"
   },
   "outputs": [
    {
     "data": {
      "text/html": [
       "<div>\n",
       "<style scoped>\n",
       "    .dataframe tbody tr th:only-of-type {\n",
       "        vertical-align: middle;\n",
       "    }\n",
       "\n",
       "    .dataframe tbody tr th {\n",
       "        vertical-align: top;\n",
       "    }\n",
       "\n",
       "    .dataframe thead th {\n",
       "        text-align: right;\n",
       "    }\n",
       "</style>\n",
       "<table border=\"1\" class=\"dataframe\">\n",
       "  <thead>\n",
       "    <tr style=\"text-align: right;\">\n",
       "      <th></th>\n",
       "      <th>cap.shape</th>\n",
       "      <th>cap.surface</th>\n",
       "      <th>cap.color</th>\n",
       "      <th>bruises</th>\n",
       "      <th>odor</th>\n",
       "      <th>gill.attachment</th>\n",
       "      <th>gill.spacing</th>\n",
       "      <th>gill.size</th>\n",
       "      <th>gill.color</th>\n",
       "      <th>stalk.shape</th>\n",
       "      <th>...</th>\n",
       "      <th>stalk.surface.above.ring</th>\n",
       "      <th>stalk.surface.below.ring</th>\n",
       "      <th>stalk.color.above.ring</th>\n",
       "      <th>stalk.color.below.ring</th>\n",
       "      <th>veil.color</th>\n",
       "      <th>ring.number</th>\n",
       "      <th>ring.type</th>\n",
       "      <th>spore.print.color</th>\n",
       "      <th>population</th>\n",
       "      <th>habitat.</th>\n",
       "    </tr>\n",
       "  </thead>\n",
       "  <tbody>\n",
       "    <tr>\n",
       "      <td>0</td>\n",
       "      <td>0.133333</td>\n",
       "      <td>0.388592</td>\n",
       "      <td>1.000000</td>\n",
       "      <td>0.195980</td>\n",
       "      <td>0.028796</td>\n",
       "      <td>0.362652</td>\n",
       "      <td>0.443869</td>\n",
       "      <td>0.327189</td>\n",
       "      <td>0.220884</td>\n",
       "      <td>0.671429</td>\n",
       "      <td>...</td>\n",
       "      <td>0.173375</td>\n",
       "      <td>0.18241</td>\n",
       "      <td>0.238876</td>\n",
       "      <td>0.244019</td>\n",
       "      <td>0.364372</td>\n",
       "      <td>0.600000</td>\n",
       "      <td>0.233945</td>\n",
       "      <td>1.000000</td>\n",
       "      <td>0.498168</td>\n",
       "      <td>0.349716</td>\n",
       "    </tr>\n",
       "    <tr>\n",
       "      <td>1</td>\n",
       "      <td>0.378523</td>\n",
       "      <td>0.394813</td>\n",
       "      <td>0.363636</td>\n",
       "      <td>0.561047</td>\n",
       "      <td>0.028796</td>\n",
       "      <td>0.362652</td>\n",
       "      <td>0.085890</td>\n",
       "      <td>0.327189</td>\n",
       "      <td>0.106870</td>\n",
       "      <td>0.091837</td>\n",
       "      <td>...</td>\n",
       "      <td>0.208092</td>\n",
       "      <td>0.18241</td>\n",
       "      <td>0.238876</td>\n",
       "      <td>0.244019</td>\n",
       "      <td>0.364372</td>\n",
       "      <td>0.355062</td>\n",
       "      <td>0.007246</td>\n",
       "      <td>0.112000</td>\n",
       "      <td>0.000000</td>\n",
       "      <td>0.349716</td>\n",
       "    </tr>\n",
       "    <tr>\n",
       "      <td>2</td>\n",
       "      <td>0.379471</td>\n",
       "      <td>0.394813</td>\n",
       "      <td>0.363636</td>\n",
       "      <td>0.561047</td>\n",
       "      <td>0.028796</td>\n",
       "      <td>0.362652</td>\n",
       "      <td>0.085890</td>\n",
       "      <td>0.327189</td>\n",
       "      <td>0.106870</td>\n",
       "      <td>0.091837</td>\n",
       "      <td>...</td>\n",
       "      <td>0.208092</td>\n",
       "      <td>0.18241</td>\n",
       "      <td>0.238876</td>\n",
       "      <td>0.244019</td>\n",
       "      <td>0.364372</td>\n",
       "      <td>0.355062</td>\n",
       "      <td>0.007246</td>\n",
       "      <td>0.112000</td>\n",
       "      <td>0.000000</td>\n",
       "      <td>0.349716</td>\n",
       "    </tr>\n",
       "    <tr>\n",
       "      <td>3</td>\n",
       "      <td>0.378523</td>\n",
       "      <td>0.323478</td>\n",
       "      <td>0.126667</td>\n",
       "      <td>0.561047</td>\n",
       "      <td>0.028796</td>\n",
       "      <td>0.362652</td>\n",
       "      <td>0.443869</td>\n",
       "      <td>0.637363</td>\n",
       "      <td>0.135593</td>\n",
       "      <td>0.671429</td>\n",
       "      <td>...</td>\n",
       "      <td>0.173375</td>\n",
       "      <td>0.18241</td>\n",
       "      <td>0.238876</td>\n",
       "      <td>0.244019</td>\n",
       "      <td>0.364372</td>\n",
       "      <td>0.355062</td>\n",
       "      <td>0.233945</td>\n",
       "      <td>0.109375</td>\n",
       "      <td>0.383886</td>\n",
       "      <td>0.739130</td>\n",
       "    </tr>\n",
       "    <tr>\n",
       "      <td>4</td>\n",
       "      <td>0.379471</td>\n",
       "      <td>0.323478</td>\n",
       "      <td>0.126667</td>\n",
       "      <td>0.195980</td>\n",
       "      <td>0.028796</td>\n",
       "      <td>0.362652</td>\n",
       "      <td>0.443869</td>\n",
       "      <td>0.327189</td>\n",
       "      <td>0.106870</td>\n",
       "      <td>0.091837</td>\n",
       "      <td>...</td>\n",
       "      <td>0.173375</td>\n",
       "      <td>0.18241</td>\n",
       "      <td>0.238876</td>\n",
       "      <td>0.428571</td>\n",
       "      <td>0.364372</td>\n",
       "      <td>0.355062</td>\n",
       "      <td>0.233945</td>\n",
       "      <td>0.109375</td>\n",
       "      <td>0.383886</td>\n",
       "      <td>0.268371</td>\n",
       "    </tr>\n",
       "  </tbody>\n",
       "</table>\n",
       "<p>5 rows × 21 columns</p>\n",
       "</div>"
      ],
      "text/plain": [
       "   cap.shape  cap.surface  cap.color   bruises      odor  gill.attachment  \\\n",
       "0   0.133333     0.388592   1.000000  0.195980  0.028796         0.362652   \n",
       "1   0.378523     0.394813   0.363636  0.561047  0.028796         0.362652   \n",
       "2   0.379471     0.394813   0.363636  0.561047  0.028796         0.362652   \n",
       "3   0.378523     0.323478   0.126667  0.561047  0.028796         0.362652   \n",
       "4   0.379471     0.323478   0.126667  0.195980  0.028796         0.362652   \n",
       "\n",
       "   gill.spacing  gill.size  gill.color  stalk.shape  ...  \\\n",
       "0      0.443869   0.327189    0.220884     0.671429  ...   \n",
       "1      0.085890   0.327189    0.106870     0.091837  ...   \n",
       "2      0.085890   0.327189    0.106870     0.091837  ...   \n",
       "3      0.443869   0.637363    0.135593     0.671429  ...   \n",
       "4      0.443869   0.327189    0.106870     0.091837  ...   \n",
       "\n",
       "   stalk.surface.above.ring  stalk.surface.below.ring  stalk.color.above.ring  \\\n",
       "0                  0.173375                   0.18241                0.238876   \n",
       "1                  0.208092                   0.18241                0.238876   \n",
       "2                  0.208092                   0.18241                0.238876   \n",
       "3                  0.173375                   0.18241                0.238876   \n",
       "4                  0.173375                   0.18241                0.238876   \n",
       "\n",
       "   stalk.color.below.ring  veil.color  ring.number  ring.type  \\\n",
       "0                0.244019    0.364372     0.600000   0.233945   \n",
       "1                0.244019    0.364372     0.355062   0.007246   \n",
       "2                0.244019    0.364372     0.355062   0.007246   \n",
       "3                0.244019    0.364372     0.355062   0.233945   \n",
       "4                0.428571    0.364372     0.355062   0.233945   \n",
       "\n",
       "   spore.print.color  population  habitat.  \n",
       "0           1.000000    0.498168  0.349716  \n",
       "1           0.112000    0.000000  0.349716  \n",
       "2           0.112000    0.000000  0.349716  \n",
       "3           0.109375    0.383886  0.739130  \n",
       "4           0.109375    0.383886  0.268371  \n",
       "\n",
       "[5 rows x 21 columns]"
      ]
     },
     "execution_count": 52,
     "metadata": {},
     "output_type": "execute_result"
    }
   ],
   "source": [
    "X = TargetEncoder().fit_transform(X, y.replace({'POISONOUS': 1, 'EDIBLE': 0}))\n",
    "X.head()"
   ]
  },
  {
   "cell_type": "markdown",
   "metadata": {
    "colab_type": "text",
    "id": "AaHMt2O_mbzT"
   },
   "source": [
    "Por meio do método __Target Encoder__, todas as variáveis do dataset foram transformadas em variáveis numéricas, preservando suas dimensões, o rótulo das colunas."
   ]
  },
  {
   "cell_type": "code",
   "execution_count": 53,
   "metadata": {
    "colab": {
     "base_uri": "https://localhost:8080/",
     "height": 34
    },
    "colab_type": "code",
    "id": "-Mi2tJVW1UKb",
    "outputId": "7d78dc04-292b-4386-b5f6-6c4276ac0fab"
   },
   "outputs": [
    {
     "data": {
      "text/plain": [
       "((5936, 21), (5936,), (4155, 21), (1781, 21), (4155,), (1781,))"
      ]
     },
     "execution_count": 53,
     "metadata": {},
     "output_type": "execute_result"
    }
   ],
   "source": [
    "# Separa a base de dados entre treino e teste: 70% para treino, 30% para teste\n",
    "X_train, X_test, y_train, y_test = train_test_split(\n",
    "    X, y, test_size=0.3,\n",
    "    random_state=0, # semente para pseudo-aleatoriedade e \n",
    "                    # reprodução de resultaos  \n",
    "    stratify=y # utilizado para balancear as bases de treino\n",
    "               # e teste de acordo com a classe\n",
    "    )\n",
    "\n",
    "# Verifica as dimensões do dataset original e das divisões criadas\n",
    "X.shape, y.shape, X_train.shape, X_test.shape, y_train.shape, y_test.shape "
   ]
  },
  {
   "cell_type": "code",
   "execution_count": 54,
   "metadata": {
    "colab": {
     "base_uri": "https://localhost:8080/",
     "height": 34
    },
    "colab_type": "code",
    "id": "Jd6Jygm2wLm8",
    "outputId": "4f08bdb6-bacf-42f4-9141-dbc4d53ab2cb"
   },
   "outputs": [
    {
     "name": "stdout",
     "output_type": "stream",
     "text": [
      "Acurária obtida por meio do modelo Árvore de Decisão: 100.00%\n"
     ]
    }
   ],
   "source": [
    "# Árvore de decisão\n",
    "model = DecisionTreeClassifier(random_state=0) # instancia o modelo de \n",
    "                                               # classificação\n",
    "model.fit(X_train, y_train) # treina o modelo\n",
    "y_pred = model.predict(X_test) # utiliza o modelo treinado para realizar\n",
    "                               # previsões sobre uma base desconhecida \n",
    "\n",
    "accuracy = accuracy_score(y_test, y_pred) # verifica a acurácia do modelo\n",
    "\n",
    "print(f'Acurária obtida por meio do modelo Árvore de Decisão: {accuracy:.2%}')"
   ]
  },
  {
   "cell_type": "code",
   "execution_count": 55,
   "metadata": {
    "colab": {
     "base_uri": "https://localhost:8080/",
     "height": 173
    },
    "colab_type": "code",
    "id": "Em90NewnwcVa",
    "outputId": "cad608af-0c67-4b87-f42c-8f23f9a40140"
   },
   "outputs": [
    {
     "data": {
      "text/html": [
       "<div>\n",
       "<style scoped>\n",
       "    .dataframe tbody tr th:only-of-type {\n",
       "        vertical-align: middle;\n",
       "    }\n",
       "\n",
       "    .dataframe tbody tr th {\n",
       "        vertical-align: top;\n",
       "    }\n",
       "\n",
       "    .dataframe thead th {\n",
       "        text-align: right;\n",
       "    }\n",
       "</style>\n",
       "<table border=\"1\" class=\"dataframe\">\n",
       "  <thead>\n",
       "    <tr style=\"text-align: right;\">\n",
       "      <th>Real</th>\n",
       "      <th>EDIBLE</th>\n",
       "      <th>POISONOUS</th>\n",
       "      <th>All</th>\n",
       "    </tr>\n",
       "    <tr>\n",
       "      <th>Previsto</th>\n",
       "      <th></th>\n",
       "      <th></th>\n",
       "      <th></th>\n",
       "    </tr>\n",
       "  </thead>\n",
       "  <tbody>\n",
       "    <tr>\n",
       "      <td>EDIBLE</td>\n",
       "      <td>1131</td>\n",
       "      <td>0</td>\n",
       "      <td>1131</td>\n",
       "    </tr>\n",
       "    <tr>\n",
       "      <td>POISONOUS</td>\n",
       "      <td>0</td>\n",
       "      <td>650</td>\n",
       "      <td>650</td>\n",
       "    </tr>\n",
       "    <tr>\n",
       "      <td>All</td>\n",
       "      <td>1131</td>\n",
       "      <td>650</td>\n",
       "      <td>1781</td>\n",
       "    </tr>\n",
       "  </tbody>\n",
       "</table>\n",
       "</div>"
      ],
      "text/plain": [
       "Real       EDIBLE  POISONOUS   All\n",
       "Previsto                          \n",
       "EDIBLE       1131          0  1131\n",
       "POISONOUS       0        650   650\n",
       "All          1131        650  1781"
      ]
     },
     "execution_count": 55,
     "metadata": {},
     "output_type": "execute_result"
    }
   ],
   "source": [
    "# Matriz de confusão\n",
    "pd.crosstab(\n",
    "    y_pred,\n",
    "    y_test,\n",
    "    rownames=['Previsto'],\n",
    "    colnames=['Real'],\n",
    "    margins=True,\n",
    "    # normalize=True, \n",
    "    dropna=False,\n",
    "    )"
   ]
  },
  {
   "cell_type": "code",
   "execution_count": 56,
   "metadata": {
    "colab": {
     "base_uri": "https://localhost:8080/",
     "height": 170
    },
    "colab_type": "code",
    "id": "Vy78eBN-wcG7",
    "outputId": "f6b44de8-eb06-4c5f-fe29-f8a3f6f7f1fd"
   },
   "outputs": [
    {
     "name": "stdout",
     "output_type": "stream",
     "text": [
      "              precision    recall  f1-score   support\n",
      "\n",
      "  Comestível       1.00      1.00      1.00      1131\n",
      "    Venenoso       1.00      1.00      1.00       650\n",
      "\n",
      "    accuracy                           1.00      1781\n",
      "   macro avg       1.00      1.00      1.00      1781\n",
      "weighted avg       1.00      1.00      1.00      1781\n",
      "\n"
     ]
    }
   ],
   "source": [
    "# Relatório de classificação\n",
    "print(classification_report(y_test, y_pred,\n",
    "                            target_names=['Comestível', 'Venenoso']))"
   ]
  },
  {
   "cell_type": "code",
   "execution_count": 57,
   "metadata": {
    "colab": {
     "base_uri": "https://localhost:8080/",
     "height": 518
    },
    "colab_type": "code",
    "id": "IMbF3ZBAwg52",
    "outputId": "58e2cf4e-f029-4cde-a6fb-e439251e08a3"
   },
   "outputs": [
    {
     "data": {
      "image/svg+xml": [
       "<?xml version=\"1.0\" encoding=\"UTF-8\" standalone=\"no\"?>\n",
       "<!DOCTYPE svg PUBLIC \"-//W3C//DTD SVG 1.1//EN\"\n",
       " \"http://www.w3.org/Graphics/SVG/1.1/DTD/svg11.dtd\">\n",
       "<!-- Generated by graphviz version 2.40.1 (20161225.0304)\n",
       " -->\n",
       "<!-- Title: Tree Pages: 1 -->\n",
       "<svg width=\"420pt\" height=\"373pt\"\n",
       " viewBox=\"0.00 0.00 420.00 373.00\" xmlns=\"http://www.w3.org/2000/svg\" xmlns:xlink=\"http://www.w3.org/1999/xlink\">\n",
       "<g id=\"graph0\" class=\"graph\" transform=\"scale(1 1) rotate(0) translate(4 369)\">\n",
       "<title>Tree</title>\n",
       "<polygon fill=\"#ffffff\" stroke=\"transparent\" points=\"-4,4 -4,-369 416,-369 416,4 -4,4\"/>\n",
       "<!-- 0 -->\n",
       "<g id=\"node1\" class=\"node\">\n",
       "<title>0</title>\n",
       "<path fill=\"#f4caab\" stroke=\"#000000\" d=\"M330.5,-365C330.5,-365 214.5,-365 214.5,-365 208.5,-365 202.5,-359 202.5,-353 202.5,-353 202.5,-309 202.5,-309 202.5,-303 208.5,-297 214.5,-297 214.5,-297 330.5,-297 330.5,-297 336.5,-297 342.5,-303 342.5,-309 342.5,-309 342.5,-353 342.5,-353 342.5,-359 336.5,-365 330.5,-365\"/>\n",
       "<text text-anchor=\"middle\" x=\"272.5\" y=\"-349.8\" font-family=\"Helvetica,sans-Serif\" font-size=\"14.00\" fill=\"#000000\">odor &lt;= 0.514</text>\n",
       "<text text-anchor=\"middle\" x=\"272.5\" y=\"-334.8\" font-family=\"Helvetica,sans-Serif\" font-size=\"14.00\" fill=\"#000000\">samples = 4155</text>\n",
       "<text text-anchor=\"middle\" x=\"272.5\" y=\"-319.8\" font-family=\"Helvetica,sans-Serif\" font-size=\"14.00\" fill=\"#000000\">value = [2637, 1518]</text>\n",
       "<text text-anchor=\"middle\" x=\"272.5\" y=\"-304.8\" font-family=\"Helvetica,sans-Serif\" font-size=\"14.00\" fill=\"#000000\">class = c</text>\n",
       "</g>\n",
       "<!-- 1 -->\n",
       "<g id=\"node2\" class=\"node\">\n",
       "<title>1</title>\n",
       "<path fill=\"#e6843e\" stroke=\"#000000\" d=\"M265,-261C265,-261 118,-261 118,-261 112,-261 106,-255 106,-249 106,-249 106,-205 106,-205 106,-199 112,-193 118,-193 118,-193 265,-193 265,-193 271,-193 277,-199 277,-205 277,-205 277,-249 277,-249 277,-255 271,-261 265,-261\"/>\n",
       "<text text-anchor=\"middle\" x=\"191.5\" y=\"-245.8\" font-family=\"Helvetica,sans-Serif\" font-size=\"14.00\" fill=\"#000000\">spore.print.color &lt;= 0.674</text>\n",
       "<text text-anchor=\"middle\" x=\"191.5\" y=\"-230.8\" font-family=\"Helvetica,sans-Serif\" font-size=\"14.00\" fill=\"#000000\">samples = 2699</text>\n",
       "<text text-anchor=\"middle\" x=\"191.5\" y=\"-215.8\" font-family=\"Helvetica,sans-Serif\" font-size=\"14.00\" fill=\"#000000\">value = [2637, 62]</text>\n",
       "<text text-anchor=\"middle\" x=\"191.5\" y=\"-200.8\" font-family=\"Helvetica,sans-Serif\" font-size=\"14.00\" fill=\"#000000\">class = c</text>\n",
       "</g>\n",
       "<!-- 0&#45;&gt;1 -->\n",
       "<g id=\"edge1\" class=\"edge\">\n",
       "<title>0&#45;&gt;1</title>\n",
       "<path fill=\"none\" stroke=\"#000000\" d=\"M245.9776,-296.9465C239.0546,-288.0578 231.5106,-278.3716 224.304,-269.1188\"/>\n",
       "<polygon fill=\"#000000\" stroke=\"#000000\" points=\"226.988,-266.8688 218.082,-261.13 221.4654,-271.1701 226.988,-266.8688\"/>\n",
       "<text text-anchor=\"middle\" x=\"214.9977\" y=\"-282.239\" font-family=\"Helvetica,sans-Serif\" font-size=\"14.00\" fill=\"#000000\">True</text>\n",
       "</g>\n",
       "<!-- 6 -->\n",
       "<g id=\"node7\" class=\"node\">\n",
       "<title>6</title>\n",
       "<path fill=\"#399de5\" stroke=\"#000000\" d=\"M400,-253.5C400,-253.5 307,-253.5 307,-253.5 301,-253.5 295,-247.5 295,-241.5 295,-241.5 295,-212.5 295,-212.5 295,-206.5 301,-200.5 307,-200.5 307,-200.5 400,-200.5 400,-200.5 406,-200.5 412,-206.5 412,-212.5 412,-212.5 412,-241.5 412,-241.5 412,-247.5 406,-253.5 400,-253.5\"/>\n",
       "<text text-anchor=\"middle\" x=\"353.5\" y=\"-238.3\" font-family=\"Helvetica,sans-Serif\" font-size=\"14.00\" fill=\"#000000\">samples = 1456</text>\n",
       "<text text-anchor=\"middle\" x=\"353.5\" y=\"-223.3\" font-family=\"Helvetica,sans-Serif\" font-size=\"14.00\" fill=\"#000000\">value = [0, 1456]</text>\n",
       "<text text-anchor=\"middle\" x=\"353.5\" y=\"-208.3\" font-family=\"Helvetica,sans-Serif\" font-size=\"14.00\" fill=\"#000000\">class = l</text>\n",
       "</g>\n",
       "<!-- 0&#45;&gt;6 -->\n",
       "<g id=\"edge6\" class=\"edge\">\n",
       "<title>0&#45;&gt;6</title>\n",
       "<path fill=\"none\" stroke=\"#000000\" d=\"M299.0224,-296.9465C307.8587,-285.6012 317.7068,-272.9567 326.5734,-261.5724\"/>\n",
       "<polygon fill=\"#000000\" stroke=\"#000000\" points=\"329.4444,-263.5823 332.8277,-253.5422 323.9217,-259.281 329.4444,-263.5823\"/>\n",
       "<text text-anchor=\"middle\" x=\"335.9121\" y=\"-274.6512\" font-family=\"Helvetica,sans-Serif\" font-size=\"14.00\" fill=\"#000000\">False</text>\n",
       "</g>\n",
       "<!-- 2 -->\n",
       "<g id=\"node3\" class=\"node\">\n",
       "<title>2</title>\n",
       "<path fill=\"#e5823a\" stroke=\"#000000\" d=\"M179,-157C179,-157 66,-157 66,-157 60,-157 54,-151 54,-145 54,-145 54,-101 54,-101 54,-95 60,-89 66,-89 66,-89 179,-89 179,-89 185,-89 191,-95 191,-101 191,-101 191,-145 191,-145 191,-151 185,-157 179,-157\"/>\n",
       "<text text-anchor=\"middle\" x=\"122.5\" y=\"-141.8\" font-family=\"Helvetica,sans-Serif\" font-size=\"14.00\" fill=\"#000000\">population &lt;= 0.749</text>\n",
       "<text text-anchor=\"middle\" x=\"122.5\" y=\"-126.8\" font-family=\"Helvetica,sans-Serif\" font-size=\"14.00\" fill=\"#000000\">samples = 2648</text>\n",
       "<text text-anchor=\"middle\" x=\"122.5\" y=\"-111.8\" font-family=\"Helvetica,sans-Serif\" font-size=\"14.00\" fill=\"#000000\">value = [2637, 11]</text>\n",
       "<text text-anchor=\"middle\" x=\"122.5\" y=\"-96.8\" font-family=\"Helvetica,sans-Serif\" font-size=\"14.00\" fill=\"#000000\">class = c</text>\n",
       "</g>\n",
       "<!-- 1&#45;&gt;2 -->\n",
       "<g id=\"edge2\" class=\"edge\">\n",
       "<title>1&#45;&gt;2</title>\n",
       "<path fill=\"none\" stroke=\"#000000\" d=\"M168.9068,-192.9465C163.1286,-184.2373 156.8425,-174.7626 150.8166,-165.6801\"/>\n",
       "<polygon fill=\"#000000\" stroke=\"#000000\" points=\"153.589,-163.5278 145.1439,-157.13 147.756,-167.3978 153.589,-163.5278\"/>\n",
       "</g>\n",
       "<!-- 5 -->\n",
       "<g id=\"node6\" class=\"node\">\n",
       "<title>5</title>\n",
       "<path fill=\"#399de5\" stroke=\"#000000\" d=\"M299.5,-149.5C299.5,-149.5 221.5,-149.5 221.5,-149.5 215.5,-149.5 209.5,-143.5 209.5,-137.5 209.5,-137.5 209.5,-108.5 209.5,-108.5 209.5,-102.5 215.5,-96.5 221.5,-96.5 221.5,-96.5 299.5,-96.5 299.5,-96.5 305.5,-96.5 311.5,-102.5 311.5,-108.5 311.5,-108.5 311.5,-137.5 311.5,-137.5 311.5,-143.5 305.5,-149.5 299.5,-149.5\"/>\n",
       "<text text-anchor=\"middle\" x=\"260.5\" y=\"-134.3\" font-family=\"Helvetica,sans-Serif\" font-size=\"14.00\" fill=\"#000000\">samples = 51</text>\n",
       "<text text-anchor=\"middle\" x=\"260.5\" y=\"-119.3\" font-family=\"Helvetica,sans-Serif\" font-size=\"14.00\" fill=\"#000000\">value = [0, 51]</text>\n",
       "<text text-anchor=\"middle\" x=\"260.5\" y=\"-104.3\" font-family=\"Helvetica,sans-Serif\" font-size=\"14.00\" fill=\"#000000\">class = l</text>\n",
       "</g>\n",
       "<!-- 1&#45;&gt;5 -->\n",
       "<g id=\"edge5\" class=\"edge\">\n",
       "<title>1&#45;&gt;5</title>\n",
       "<path fill=\"none\" stroke=\"#000000\" d=\"M214.0932,-192.9465C221.5473,-181.7113 229.8467,-169.2021 237.3423,-157.9043\"/>\n",
       "<polygon fill=\"#000000\" stroke=\"#000000\" points=\"240.2782,-159.81 242.8903,-149.5422 234.4453,-155.94 240.2782,-159.81\"/>\n",
       "</g>\n",
       "<!-- 3 -->\n",
       "<g id=\"node4\" class=\"node\">\n",
       "<title>3</title>\n",
       "<path fill=\"#e58139\" stroke=\"#000000\" d=\"M105,-53C105,-53 12,-53 12,-53 6,-53 0,-47 0,-41 0,-41 0,-12 0,-12 0,-6 6,0 12,0 12,0 105,0 105,0 111,0 117,-6 117,-12 117,-12 117,-41 117,-41 117,-47 111,-53 105,-53\"/>\n",
       "<text text-anchor=\"middle\" x=\"58.5\" y=\"-37.8\" font-family=\"Helvetica,sans-Serif\" font-size=\"14.00\" fill=\"#000000\">samples = 2637</text>\n",
       "<text text-anchor=\"middle\" x=\"58.5\" y=\"-22.8\" font-family=\"Helvetica,sans-Serif\" font-size=\"14.00\" fill=\"#000000\">value = [2637, 0]</text>\n",
       "<text text-anchor=\"middle\" x=\"58.5\" y=\"-7.8\" font-family=\"Helvetica,sans-Serif\" font-size=\"14.00\" fill=\"#000000\">class = c</text>\n",
       "</g>\n",
       "<!-- 2&#45;&gt;3 -->\n",
       "<g id=\"edge3\" class=\"edge\">\n",
       "<title>2&#45;&gt;3</title>\n",
       "<path fill=\"none\" stroke=\"#000000\" d=\"M99.936,-88.9777C94.1059,-80.187 87.8169,-70.7044 81.943,-61.8477\"/>\n",
       "<polygon fill=\"#000000\" stroke=\"#000000\" points=\"84.6838,-59.6478 76.2399,-53.2485 78.8502,-63.5167 84.6838,-59.6478\"/>\n",
       "</g>\n",
       "<!-- 4 -->\n",
       "<g id=\"node5\" class=\"node\">\n",
       "<title>4</title>\n",
       "<path fill=\"#399de5\" stroke=\"#000000\" d=\"M225.5,-53C225.5,-53 147.5,-53 147.5,-53 141.5,-53 135.5,-47 135.5,-41 135.5,-41 135.5,-12 135.5,-12 135.5,-6 141.5,0 147.5,0 147.5,0 225.5,0 225.5,0 231.5,0 237.5,-6 237.5,-12 237.5,-12 237.5,-41 237.5,-41 237.5,-47 231.5,-53 225.5,-53\"/>\n",
       "<text text-anchor=\"middle\" x=\"186.5\" y=\"-37.8\" font-family=\"Helvetica,sans-Serif\" font-size=\"14.00\" fill=\"#000000\">samples = 11</text>\n",
       "<text text-anchor=\"middle\" x=\"186.5\" y=\"-22.8\" font-family=\"Helvetica,sans-Serif\" font-size=\"14.00\" fill=\"#000000\">value = [0, 11]</text>\n",
       "<text text-anchor=\"middle\" x=\"186.5\" y=\"-7.8\" font-family=\"Helvetica,sans-Serif\" font-size=\"14.00\" fill=\"#000000\">class = l</text>\n",
       "</g>\n",
       "<!-- 2&#45;&gt;4 -->\n",
       "<g id=\"edge4\" class=\"edge\">\n",
       "<title>2&#45;&gt;4</title>\n",
       "<path fill=\"none\" stroke=\"#000000\" d=\"M145.064,-88.9777C150.8941,-80.187 157.1831,-70.7044 163.057,-61.8477\"/>\n",
       "<polygon fill=\"#000000\" stroke=\"#000000\" points=\"166.1498,-63.5167 168.7601,-53.2485 160.3162,-59.6478 166.1498,-63.5167\"/>\n",
       "</g>\n",
       "</g>\n",
       "</svg>\n"
      ],
      "text/plain": [
       "<graphviz.files.Source at 0x7f5f2341ea50>"
      ]
     },
     "execution_count": 57,
     "metadata": {},
     "output_type": "execute_result"
    }
   ],
   "source": [
    "# Plot da Árvore de Decisão\n",
    "feature_names = X.columns.to_list() # lista contendo o nome dos atributos\n",
    "\n",
    "dot_data = export_graphviz(\n",
    "    decision_tree=model,\n",
    "    out_file=None,\n",
    "    feature_names=feature_names,\n",
    "    impurity=False,        \n",
    "    class_names='class',\n",
    "    filled=True,\n",
    "    rounded=True,    \n",
    ") \n",
    "\n",
    "graphviz.Source(dot_data)"
   ]
  }
 ],
 "metadata": {
  "accelerator": "GPU",
  "colab": {
   "collapsed_sections": [],
   "name": "mushrooms.ipynb",
   "provenance": []
  },
  "kernelspec": {
   "display_name": "Python 3",
   "language": "python",
   "name": "python3"
  },
  "language_info": {
   "codemirror_mode": {
    "name": "ipython",
    "version": 3
   },
   "file_extension": ".py",
   "mimetype": "text/x-python",
   "name": "python",
   "nbconvert_exporter": "python",
   "pygments_lexer": "ipython3",
   "version": "3.7.5"
  }
 },
 "nbformat": 4,
 "nbformat_minor": 4
}
